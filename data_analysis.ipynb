{
 "cells": [
  {
   "cell_type": "code",
   "execution_count": 5,
   "metadata": {},
   "outputs": [],
   "source": [
    "import numpy as np\n",
    "import pandas as pd\n",
    "import matplotlib.pyplot as plt\n",
    "import mpl_toolkits\n",
    "import matplotlib.mlab\n",
    "from mpl_toolkits.mplot3d import Axes3D\n",
    "%matplotlib inline"
   ]
  },
  {
   "cell_type": "markdown",
   "metadata": {},
   "source": [
    "# Calculating Average Price"
   ]
  },
  {
   "cell_type": "markdown",
   "metadata": {},
   "source": [
    "Read the data for latitude, longitutde, price, and weekly price while removing the \"$\" and \",\" so I can read the columns as floats instead of strings"
   ]
  },
  {
   "cell_type": "code",
   "execution_count": 7,
   "metadata": {},
   "outputs": [
    {
     "name": "stderr",
     "output_type": "stream",
     "text": [
      "/Users/simran/Desktop/virtual_env/capital-one/lib/python3.6/site-packages/IPython/core/interactiveshell.py:2728: DtypeWarning: Columns (43) have mixed types. Specify dtype option on import or set low_memory=False.\n",
      "  interactivity=interactivity, compiler=compiler, result=result)\n"
     ]
    },
    {
     "data": {
      "text/html": [
       "<div>\n",
       "<style scoped>\n",
       "    .dataframe tbody tr th:only-of-type {\n",
       "        vertical-align: middle;\n",
       "    }\n",
       "\n",
       "    .dataframe tbody tr th {\n",
       "        vertical-align: top;\n",
       "    }\n",
       "\n",
       "    .dataframe thead th {\n",
       "        text-align: right;\n",
       "    }\n",
       "</style>\n",
       "<table border=\"1\" class=\"dataframe\">\n",
       "  <thead>\n",
       "    <tr style=\"text-align: right;\">\n",
       "      <th></th>\n",
       "      <th>latitude</th>\n",
       "      <th>longitude</th>\n",
       "      <th>price</th>\n",
       "      <th>weekly_price</th>\n",
       "    </tr>\n",
       "  </thead>\n",
       "  <tbody>\n",
       "    <tr>\n",
       "      <th>0</th>\n",
       "      <td>37.754184</td>\n",
       "      <td>-122.406514</td>\n",
       "      <td>49.0</td>\n",
       "      <td>300.0</td>\n",
       "    </tr>\n",
       "    <tr>\n",
       "      <th>1</th>\n",
       "      <td>37.754166</td>\n",
       "      <td>-122.421534</td>\n",
       "      <td>220.0</td>\n",
       "      <td>1050.0</td>\n",
       "    </tr>\n",
       "    <tr>\n",
       "      <th>2</th>\n",
       "      <td>37.758506</td>\n",
       "      <td>-122.406152</td>\n",
       "      <td>100.0</td>\n",
       "      <td>NaN</td>\n",
       "    </tr>\n",
       "    <tr>\n",
       "      <th>3</th>\n",
       "      <td>37.756549</td>\n",
       "      <td>-122.422025</td>\n",
       "      <td>117.0</td>\n",
       "      <td>NaN</td>\n",
       "    </tr>\n",
       "    <tr>\n",
       "      <th>4</th>\n",
       "      <td>37.760051</td>\n",
       "      <td>-122.421352</td>\n",
       "      <td>200.0</td>\n",
       "      <td>NaN</td>\n",
       "    </tr>\n",
       "    <tr>\n",
       "      <th>5</th>\n",
       "      <td>37.759495</td>\n",
       "      <td>-122.424874</td>\n",
       "      <td>162.0</td>\n",
       "      <td>NaN</td>\n",
       "    </tr>\n",
       "    <tr>\n",
       "      <th>6</th>\n",
       "      <td>37.760997</td>\n",
       "      <td>-122.413124</td>\n",
       "      <td>230.0</td>\n",
       "      <td>1400.0</td>\n",
       "    </tr>\n",
       "    <tr>\n",
       "      <th>7</th>\n",
       "      <td>37.750543</td>\n",
       "      <td>-122.416559</td>\n",
       "      <td>173.0</td>\n",
       "      <td>NaN</td>\n",
       "    </tr>\n",
       "    <tr>\n",
       "      <th>8</th>\n",
       "      <td>37.756288</td>\n",
       "      <td>-122.408738</td>\n",
       "      <td>600.0</td>\n",
       "      <td>NaN</td>\n",
       "    </tr>\n",
       "    <tr>\n",
       "      <th>9</th>\n",
       "      <td>37.757246</td>\n",
       "      <td>-122.409315</td>\n",
       "      <td>250.0</td>\n",
       "      <td>NaN</td>\n",
       "    </tr>\n",
       "  </tbody>\n",
       "</table>\n",
       "</div>"
      ],
      "text/plain": [
       "    latitude   longitude  price  weekly_price\n",
       "0  37.754184 -122.406514   49.0         300.0\n",
       "1  37.754166 -122.421534  220.0        1050.0\n",
       "2  37.758506 -122.406152  100.0           NaN\n",
       "3  37.756549 -122.422025  117.0           NaN\n",
       "4  37.760051 -122.421352  200.0           NaN\n",
       "5  37.759495 -122.424874  162.0           NaN\n",
       "6  37.760997 -122.413124  230.0        1400.0\n",
       "7  37.750543 -122.416559  173.0           NaN\n",
       "8  37.756288 -122.408738  600.0           NaN\n",
       "9  37.757246 -122.409315  250.0           NaN"
      ]
     },
     "execution_count": 7,
     "metadata": {},
     "output_type": "execute_result"
    }
   ],
   "source": [
    "data = pd.read_csv(\"./data/listings.csv\")\n",
    "data = data[['latitude','longitude', 'price', 'weekly_price']]\n",
    "data['weekly_price'] = data['weekly_price'].str.replace('$', '').str.replace(',', '').astype(float)\n",
    "data['price'] = data['price'].str.replace('$', '').str.replace(',', '').astype(float)\n",
    "data.head(10)"
   ]
  },
  {
   "cell_type": "markdown",
   "metadata": {},
   "source": [
    "Remove all rows that don't have a weekly price. I print out the length of the data without rows and I attempt to remove any more values that don't have a latitude, longitude, or regular price, but since the lengths are the same, that means the only NaNs exist in the weekly price."
   ]
  },
  {
   "cell_type": "code",
   "execution_count": 8,
   "metadata": {},
   "outputs": [
    {
     "name": "stdout",
     "output_type": "stream",
     "text": [
      "2165\n",
      "2165\n"
     ]
    },
    {
     "data": {
      "text/html": [
       "<div>\n",
       "<style scoped>\n",
       "    .dataframe tbody tr th:only-of-type {\n",
       "        vertical-align: middle;\n",
       "    }\n",
       "\n",
       "    .dataframe tbody tr th {\n",
       "        vertical-align: top;\n",
       "    }\n",
       "\n",
       "    .dataframe thead th {\n",
       "        text-align: right;\n",
       "    }\n",
       "</style>\n",
       "<table border=\"1\" class=\"dataframe\">\n",
       "  <thead>\n",
       "    <tr style=\"text-align: right;\">\n",
       "      <th></th>\n",
       "      <th>latitude</th>\n",
       "      <th>longitude</th>\n",
       "      <th>price</th>\n",
       "      <th>weekly_price</th>\n",
       "    </tr>\n",
       "  </thead>\n",
       "  <tbody>\n",
       "    <tr>\n",
       "      <th>0</th>\n",
       "      <td>37.754184</td>\n",
       "      <td>-122.406514</td>\n",
       "      <td>49.0</td>\n",
       "      <td>300.0</td>\n",
       "    </tr>\n",
       "    <tr>\n",
       "      <th>1</th>\n",
       "      <td>37.754166</td>\n",
       "      <td>-122.421534</td>\n",
       "      <td>220.0</td>\n",
       "      <td>1050.0</td>\n",
       "    </tr>\n",
       "    <tr>\n",
       "      <th>6</th>\n",
       "      <td>37.760997</td>\n",
       "      <td>-122.413124</td>\n",
       "      <td>230.0</td>\n",
       "      <td>1400.0</td>\n",
       "    </tr>\n",
       "    <tr>\n",
       "      <th>10</th>\n",
       "      <td>37.749329</td>\n",
       "      <td>-122.410792</td>\n",
       "      <td>300.0</td>\n",
       "      <td>1900.0</td>\n",
       "    </tr>\n",
       "    <tr>\n",
       "      <th>14</th>\n",
       "      <td>37.766521</td>\n",
       "      <td>-122.424660</td>\n",
       "      <td>95.0</td>\n",
       "      <td>550.0</td>\n",
       "    </tr>\n",
       "  </tbody>\n",
       "</table>\n",
       "</div>"
      ],
      "text/plain": [
       "     latitude   longitude  price  weekly_price\n",
       "0   37.754184 -122.406514   49.0         300.0\n",
       "1   37.754166 -122.421534  220.0        1050.0\n",
       "6   37.760997 -122.413124  230.0        1400.0\n",
       "10  37.749329 -122.410792  300.0        1900.0\n",
       "14  37.766521 -122.424660   95.0         550.0"
      ]
     },
     "execution_count": 8,
     "metadata": {},
     "output_type": "execute_result"
    }
   ],
   "source": [
    "has_weekly = data.dropna(subset=['weekly_price']);\n",
    "print(len(has_weekly))\n",
    "print(len(has_weekly.dropna(how='any')))\n",
    "has_weekly.head()"
   ]
  },
  {
   "cell_type": "markdown",
   "metadata": {},
   "source": [
    "I figure out on average how many times the price an owner gets for week as opposed to a day. I figured it was around 7, but it doesn't hurt to get a more accurate number. This is useful to make an educated guess as to what the weekly price of houses with just a price is."
   ]
  },
  {
   "cell_type": "code",
   "execution_count": 9,
   "metadata": {},
   "outputs": [
    {
     "name": "stdout",
     "output_type": "stream",
     "text": [
      "6.73920600177\n"
     ]
    }
   ],
   "source": [
    "avg_multiplier = (has_weekly.weekly_price/has_weekly.price).mean()\n",
    "print(avg_multiplier)"
   ]
  },
  {
   "cell_type": "markdown",
   "metadata": {},
   "source": [
    "Replace all the NaN with the averge multiplier times the nightly price"
   ]
  },
  {
   "cell_type": "code",
   "execution_count": 10,
   "metadata": {},
   "outputs": [
    {
     "data": {
      "text/html": [
       "<div>\n",
       "<style scoped>\n",
       "    .dataframe tbody tr th:only-of-type {\n",
       "        vertical-align: middle;\n",
       "    }\n",
       "\n",
       "    .dataframe tbody tr th {\n",
       "        vertical-align: top;\n",
       "    }\n",
       "\n",
       "    .dataframe thead th {\n",
       "        text-align: right;\n",
       "    }\n",
       "</style>\n",
       "<table border=\"1\" class=\"dataframe\">\n",
       "  <thead>\n",
       "    <tr style=\"text-align: right;\">\n",
       "      <th></th>\n",
       "      <th>latitude</th>\n",
       "      <th>longitude</th>\n",
       "      <th>price</th>\n",
       "      <th>weekly_price</th>\n",
       "    </tr>\n",
       "  </thead>\n",
       "  <tbody>\n",
       "    <tr>\n",
       "      <th>0</th>\n",
       "      <td>37.754184</td>\n",
       "      <td>-122.406514</td>\n",
       "      <td>49.0</td>\n",
       "      <td>300.000000</td>\n",
       "    </tr>\n",
       "    <tr>\n",
       "      <th>1</th>\n",
       "      <td>37.754166</td>\n",
       "      <td>-122.421534</td>\n",
       "      <td>220.0</td>\n",
       "      <td>1050.000000</td>\n",
       "    </tr>\n",
       "    <tr>\n",
       "      <th>2</th>\n",
       "      <td>37.758506</td>\n",
       "      <td>-122.406152</td>\n",
       "      <td>100.0</td>\n",
       "      <td>673.920600</td>\n",
       "    </tr>\n",
       "    <tr>\n",
       "      <th>3</th>\n",
       "      <td>37.756549</td>\n",
       "      <td>-122.422025</td>\n",
       "      <td>117.0</td>\n",
       "      <td>788.487102</td>\n",
       "    </tr>\n",
       "    <tr>\n",
       "      <th>4</th>\n",
       "      <td>37.760051</td>\n",
       "      <td>-122.421352</td>\n",
       "      <td>200.0</td>\n",
       "      <td>1347.841200</td>\n",
       "    </tr>\n",
       "  </tbody>\n",
       "</table>\n",
       "</div>"
      ],
      "text/plain": [
       "    latitude   longitude  price  weekly_price\n",
       "0  37.754184 -122.406514   49.0    300.000000\n",
       "1  37.754166 -122.421534  220.0   1050.000000\n",
       "2  37.758506 -122.406152  100.0    673.920600\n",
       "3  37.756549 -122.422025  117.0    788.487102\n",
       "4  37.760051 -122.421352  200.0   1347.841200"
      ]
     },
     "execution_count": 10,
     "metadata": {},
     "output_type": "execute_result"
    }
   ],
   "source": [
    "data.weekly_price.fillna(data.price*avg_multiplier, inplace=True)\n",
    "data.head()"
   ]
  },
  {
   "cell_type": "markdown",
   "metadata": {},
   "source": [
    "Just some information that would be interesting to see."
   ]
  },
  {
   "cell_type": "code",
   "execution_count": 11,
   "metadata": {},
   "outputs": [
    {
     "data": {
      "text/html": [
       "<div>\n",
       "<style scoped>\n",
       "    .dataframe tbody tr th:only-of-type {\n",
       "        vertical-align: middle;\n",
       "    }\n",
       "\n",
       "    .dataframe tbody tr th {\n",
       "        vertical-align: top;\n",
       "    }\n",
       "\n",
       "    .dataframe thead th {\n",
       "        text-align: right;\n",
       "    }\n",
       "</style>\n",
       "<table border=\"1\" class=\"dataframe\">\n",
       "  <thead>\n",
       "    <tr style=\"text-align: right;\">\n",
       "      <th></th>\n",
       "      <th>latitude</th>\n",
       "      <th>longitude</th>\n",
       "      <th>price</th>\n",
       "      <th>weekly_price</th>\n",
       "    </tr>\n",
       "  </thead>\n",
       "  <tbody>\n",
       "    <tr>\n",
       "      <th>count</th>\n",
       "      <td>8706.000000</td>\n",
       "      <td>8706.000000</td>\n",
       "      <td>8706.000000</td>\n",
       "      <td>8706.000000</td>\n",
       "    </tr>\n",
       "    <tr>\n",
       "      <th>mean</th>\n",
       "      <td>37.767743</td>\n",
       "      <td>-122.430262</td>\n",
       "      <td>250.160579</td>\n",
       "      <td>1655.122398</td>\n",
       "    </tr>\n",
       "    <tr>\n",
       "      <th>std</th>\n",
       "      <td>0.021930</td>\n",
       "      <td>0.025466</td>\n",
       "      <td>474.630624</td>\n",
       "      <td>3169.221635</td>\n",
       "    </tr>\n",
       "    <tr>\n",
       "      <th>min</th>\n",
       "      <td>37.706928</td>\n",
       "      <td>-122.511500</td>\n",
       "      <td>0.000000</td>\n",
       "      <td>0.000000</td>\n",
       "    </tr>\n",
       "    <tr>\n",
       "      <th>25%</th>\n",
       "      <td>37.753321</td>\n",
       "      <td>-122.442043</td>\n",
       "      <td>100.000000</td>\n",
       "      <td>680.000000</td>\n",
       "    </tr>\n",
       "    <tr>\n",
       "      <th>50%</th>\n",
       "      <td>37.769819</td>\n",
       "      <td>-122.425420</td>\n",
       "      <td>160.000000</td>\n",
       "      <td>1050.000000</td>\n",
       "    </tr>\n",
       "    <tr>\n",
       "      <th>75%</th>\n",
       "      <td>37.785527</td>\n",
       "      <td>-122.412451</td>\n",
       "      <td>250.000000</td>\n",
       "      <td>1684.801500</td>\n",
       "    </tr>\n",
       "    <tr>\n",
       "      <th>max</th>\n",
       "      <td>37.831093</td>\n",
       "      <td>-122.364759</td>\n",
       "      <td>10000.000000</td>\n",
       "      <td>67392.060018</td>\n",
       "    </tr>\n",
       "  </tbody>\n",
       "</table>\n",
       "</div>"
      ],
      "text/plain": [
       "          latitude    longitude         price  weekly_price\n",
       "count  8706.000000  8706.000000   8706.000000   8706.000000\n",
       "mean     37.767743  -122.430262    250.160579   1655.122398\n",
       "std       0.021930     0.025466    474.630624   3169.221635\n",
       "min      37.706928  -122.511500      0.000000      0.000000\n",
       "25%      37.753321  -122.442043    100.000000    680.000000\n",
       "50%      37.769819  -122.425420    160.000000   1050.000000\n",
       "75%      37.785527  -122.412451    250.000000   1684.801500\n",
       "max      37.831093  -122.364759  10000.000000  67392.060018"
      ]
     },
     "execution_count": 11,
     "metadata": {},
     "output_type": "execute_result"
    }
   ],
   "source": [
    "data.describe()"
   ]
  },
  {
   "cell_type": "code",
   "execution_count": 12,
   "metadata": {},
   "outputs": [
    {
     "name": "stderr",
     "output_type": "stream",
     "text": [
      "/Users/simran/Desktop/virtual_env/capital-one/lib/python3.6/site-packages/sklearn/cross_validation.py:41: DeprecationWarning: This module was deprecated in version 0.18 in favor of the model_selection module into which all the refactored classes and functions are moved. Also note that the interface of the new CV iterators are different from that of this module. This module will be removed in 0.20.\n",
      "  \"This module will be removed in 0.20.\", DeprecationWarning)\n"
     ]
    }
   ],
   "source": [
    "from sklearn.svm import SVR\n",
    "from sklearn.neighbors import KNeighborsRegressor\n",
    "from sklearn.linear_model import LinearRegression\n",
    "from sklearn.cross_validation import train_test_split"
   ]
  },
  {
   "cell_type": "code",
   "execution_count": 13,
   "metadata": {},
   "outputs": [
    {
     "data": {
      "text/html": [
       "<div>\n",
       "<style scoped>\n",
       "    .dataframe tbody tr th:only-of-type {\n",
       "        vertical-align: middle;\n",
       "    }\n",
       "\n",
       "    .dataframe tbody tr th {\n",
       "        vertical-align: top;\n",
       "    }\n",
       "\n",
       "    .dataframe thead th {\n",
       "        text-align: right;\n",
       "    }\n",
       "</style>\n",
       "<table border=\"1\" class=\"dataframe\">\n",
       "  <thead>\n",
       "    <tr style=\"text-align: right;\">\n",
       "      <th></th>\n",
       "      <th>latitude</th>\n",
       "      <th>longitude</th>\n",
       "      <th>price</th>\n",
       "      <th>weekly_price</th>\n",
       "    </tr>\n",
       "  </thead>\n",
       "  <tbody>\n",
       "    <tr>\n",
       "      <th>0</th>\n",
       "      <td>37.754184</td>\n",
       "      <td>-122.406514</td>\n",
       "      <td>49.0</td>\n",
       "      <td>300.000000</td>\n",
       "    </tr>\n",
       "    <tr>\n",
       "      <th>1</th>\n",
       "      <td>37.754166</td>\n",
       "      <td>-122.421534</td>\n",
       "      <td>220.0</td>\n",
       "      <td>1050.000000</td>\n",
       "    </tr>\n",
       "    <tr>\n",
       "      <th>2</th>\n",
       "      <td>37.758506</td>\n",
       "      <td>-122.406152</td>\n",
       "      <td>100.0</td>\n",
       "      <td>673.920600</td>\n",
       "    </tr>\n",
       "    <tr>\n",
       "      <th>3</th>\n",
       "      <td>37.756549</td>\n",
       "      <td>-122.422025</td>\n",
       "      <td>117.0</td>\n",
       "      <td>788.487102</td>\n",
       "    </tr>\n",
       "    <tr>\n",
       "      <th>4</th>\n",
       "      <td>37.760051</td>\n",
       "      <td>-122.421352</td>\n",
       "      <td>200.0</td>\n",
       "      <td>1347.841200</td>\n",
       "    </tr>\n",
       "  </tbody>\n",
       "</table>\n",
       "</div>"
      ],
      "text/plain": [
       "    latitude   longitude  price  weekly_price\n",
       "0  37.754184 -122.406514   49.0    300.000000\n",
       "1  37.754166 -122.421534  220.0   1050.000000\n",
       "2  37.758506 -122.406152  100.0    673.920600\n",
       "3  37.756549 -122.422025  117.0    788.487102\n",
       "4  37.760051 -122.421352  200.0   1347.841200"
      ]
     },
     "execution_count": 13,
     "metadata": {},
     "output_type": "execute_result"
    }
   ],
   "source": [
    "data.head()"
   ]
  },
  {
   "cell_type": "markdown",
   "metadata": {},
   "source": [
    "Splitting the data into its features and labels"
   ]
  },
  {
   "cell_type": "code",
   "execution_count": 14,
   "metadata": {},
   "outputs": [],
   "source": [
    "features = data[['latitude','longitude']]\n",
    "labels = data[['weekly_price']]\n",
    "x_train , x_test , y_train , y_test = train_test_split(features , labels , test_size = 0.20,random_state =2)"
   ]
  },
  {
   "cell_type": "code",
   "execution_count": 15,
   "metadata": {},
   "outputs": [],
   "source": [
    "grid_num = len(features.latitude.values)\n",
    "xi = np.linspace(features.latitude.min(), features.latitude.max(), num=grid_num)\n",
    "yi = np.linspace(features.longitude.min(), features.longitude.max(), num=grid_num)\n",
    "zi = matplotlib.mlab.griddata(features.latitude.values, features.longitude.values, labels.values.reshape(-1), xi, yi, interp='linear')"
   ]
  },
  {
   "cell_type": "code",
   "execution_count": 16,
   "metadata": {},
   "outputs": [
    {
     "data": {
      "image/png": "[encoded data removed]",
      "text/plain": [
       "<matplotlib.figure.Figure at 0x113440198>"
      ]
     },
     "metadata": {},
     "output_type": "display_data"
    }
   ],
   "source": [
    "%matplotlib inline\n",
    "fig = plt.figure()\n",
    "ax = fig.gca(projection='3d')\n",
    "ax.plot_surface(xi, yi, zi)\n",
    "plt.show()"
   ]
  },
  {
   "cell_type": "markdown",
   "metadata": {},
   "source": [
    "# KNN Regressor"
   ]
  },
  {
   "cell_type": "code",
   "execution_count": 17,
   "metadata": {},
   "outputs": [],
   "source": [
    "reg = KNeighborsRegressor(10)"
   ]
  },
  {
   "cell_type": "markdown",
   "metadata": {},
   "source": [
    "A score of 0 is if we had just predicted the averages, so this is definitely not a great model"
   ]
  },
  {
   "cell_type": "code",
   "execution_count": 18,
   "metadata": {},
   "outputs": [
    {
     "data": {
      "text/plain": [
       "-0.033150769897492438"
      ]
     },
     "execution_count": 18,
     "metadata": {},
     "output_type": "execute_result"
    }
   ],
   "source": [
    "reg.fit(x_train,y_train)\n",
    "reg.score(x_test,y_test)"
   ]
  },
  {
   "cell_type": "markdown",
   "metadata": {},
   "source": [
    "Just looking at the values, to make sure everything has worked out. You can see even from these 10 that the model is not doing a very great job at predicting very high prices."
   ]
  },
  {
   "cell_type": "code",
   "execution_count": 19,
   "metadata": {},
   "outputs": [
    {
     "data": {
      "text/html": [
       "<div>\n",
       "<style scoped>\n",
       "    .dataframe tbody tr th:only-of-type {\n",
       "        vertical-align: middle;\n",
       "    }\n",
       "\n",
       "    .dataframe tbody tr th {\n",
       "        vertical-align: top;\n",
       "    }\n",
       "\n",
       "    .dataframe thead th {\n",
       "        text-align: right;\n",
       "    }\n",
       "</style>\n",
       "<table border=\"1\" class=\"dataframe\">\n",
       "  <thead>\n",
       "    <tr style=\"text-align: right;\">\n",
       "      <th></th>\n",
       "      <th>latitude</th>\n",
       "      <th>longitude</th>\n",
       "    </tr>\n",
       "  </thead>\n",
       "  <tbody>\n",
       "    <tr>\n",
       "      <th>8325</th>\n",
       "      <td>37.720802</td>\n",
       "      <td>-122.463017</td>\n",
       "    </tr>\n",
       "    <tr>\n",
       "      <th>842</th>\n",
       "      <td>37.727048</td>\n",
       "      <td>-122.459462</td>\n",
       "    </tr>\n",
       "    <tr>\n",
       "      <th>4943</th>\n",
       "      <td>37.773238</td>\n",
       "      <td>-122.429438</td>\n",
       "    </tr>\n",
       "    <tr>\n",
       "      <th>4468</th>\n",
       "      <td>37.796564</td>\n",
       "      <td>-122.413304</td>\n",
       "    </tr>\n",
       "    <tr>\n",
       "      <th>5152</th>\n",
       "      <td>37.777702</td>\n",
       "      <td>-122.435590</td>\n",
       "    </tr>\n",
       "    <tr>\n",
       "      <th>2915</th>\n",
       "      <td>37.759797</td>\n",
       "      <td>-122.430435</td>\n",
       "    </tr>\n",
       "    <tr>\n",
       "      <th>2862</th>\n",
       "      <td>37.762749</td>\n",
       "      <td>-122.403750</td>\n",
       "    </tr>\n",
       "    <tr>\n",
       "      <th>3291</th>\n",
       "      <td>37.765173</td>\n",
       "      <td>-122.432329</td>\n",
       "    </tr>\n",
       "    <tr>\n",
       "      <th>4134</th>\n",
       "      <td>37.801473</td>\n",
       "      <td>-122.405711</td>\n",
       "    </tr>\n",
       "    <tr>\n",
       "      <th>8512</th>\n",
       "      <td>37.756212</td>\n",
       "      <td>-122.415546</td>\n",
       "    </tr>\n",
       "  </tbody>\n",
       "</table>\n",
       "</div>"
      ],
      "text/plain": [
       "       latitude   longitude\n",
       "8325  37.720802 -122.463017\n",
       "842   37.727048 -122.459462\n",
       "4943  37.773238 -122.429438\n",
       "4468  37.796564 -122.413304\n",
       "5152  37.777702 -122.435590\n",
       "2915  37.759797 -122.430435\n",
       "2862  37.762749 -122.403750\n",
       "3291  37.765173 -122.432329\n",
       "4134  37.801473 -122.405711\n",
       "8512  37.756212 -122.415546"
      ]
     },
     "execution_count": 19,
     "metadata": {},
     "output_type": "execute_result"
    }
   ],
   "source": [
    "x_test.head(10)"
   ]
  },
  {
   "cell_type": "code",
   "execution_count": 20,
   "metadata": {},
   "outputs": [
    {
     "data": {
      "text/html": [
       "<div>\n",
       "<style scoped>\n",
       "    .dataframe tbody tr th:only-of-type {\n",
       "        vertical-align: middle;\n",
       "    }\n",
       "\n",
       "    .dataframe tbody tr th {\n",
       "        vertical-align: top;\n",
       "    }\n",
       "\n",
       "    .dataframe thead th {\n",
       "        text-align: right;\n",
       "    }\n",
       "</style>\n",
       "<table border=\"1\" class=\"dataframe\">\n",
       "  <thead>\n",
       "    <tr style=\"text-align: right;\">\n",
       "      <th></th>\n",
       "      <th>weekly_price</th>\n",
       "    </tr>\n",
       "  </thead>\n",
       "  <tbody>\n",
       "    <tr>\n",
       "      <th>8325</th>\n",
       "      <td>606.528540</td>\n",
       "    </tr>\n",
       "    <tr>\n",
       "      <th>842</th>\n",
       "      <td>10749.033573</td>\n",
       "    </tr>\n",
       "    <tr>\n",
       "      <th>4943</th>\n",
       "      <td>1010.880900</td>\n",
       "    </tr>\n",
       "    <tr>\n",
       "      <th>4468</th>\n",
       "      <td>2021.761801</td>\n",
       "    </tr>\n",
       "    <tr>\n",
       "      <th>5152</th>\n",
       "      <td>500.000000</td>\n",
       "    </tr>\n",
       "    <tr>\n",
       "      <th>2915</th>\n",
       "      <td>1078.272960</td>\n",
       "    </tr>\n",
       "    <tr>\n",
       "      <th>2862</th>\n",
       "      <td>1000.000000</td>\n",
       "    </tr>\n",
       "    <tr>\n",
       "      <th>3291</th>\n",
       "      <td>1475.886114</td>\n",
       "    </tr>\n",
       "    <tr>\n",
       "      <th>4134</th>\n",
       "      <td>599.789334</td>\n",
       "    </tr>\n",
       "    <tr>\n",
       "      <th>8512</th>\n",
       "      <td>673.920600</td>\n",
       "    </tr>\n",
       "  </tbody>\n",
       "</table>\n",
       "</div>"
      ],
      "text/plain": [
       "      weekly_price\n",
       "8325    606.528540\n",
       "842   10749.033573\n",
       "4943   1010.880900\n",
       "4468   2021.761801\n",
       "5152    500.000000\n",
       "2915   1078.272960\n",
       "2862   1000.000000\n",
       "3291   1475.886114\n",
       "4134    599.789334\n",
       "8512    673.920600"
      ]
     },
     "execution_count": 20,
     "metadata": {},
     "output_type": "execute_result"
    }
   ],
   "source": [
    "y_test.head(10)"
   ]
  },
  {
   "cell_type": "code",
   "execution_count": 21,
   "metadata": {},
   "outputs": [
    {
     "data": {
      "text/plain": [
       "array([[ 1032.59730164],\n",
       "       [  727.70089652],\n",
       "       [ 1394.87174366],\n",
       "       [ 1131.21680399],\n",
       "       [ 1764.45053077],\n",
       "       [ 1961.43824569],\n",
       "       [ 2076.99874708],\n",
       "       [ 1443.53514471],\n",
       "       [ 2774.04018503],\n",
       "       [ 1264.87087463]])"
      ]
     },
     "execution_count": 21,
     "metadata": {},
     "output_type": "execute_result"
    }
   ],
   "source": [
    "reg.predict(x_test[:10])"
   ]
  },
  {
   "cell_type": "markdown",
   "metadata": {},
   "source": [
    "Curious to see that the mean is about the same as the actual dataset, but the standard deviation is much lower. This model doesn't really handle the information very well. This is also pretty apparent with the negative r squared value."
   ]
  },
  {
   "cell_type": "code",
   "execution_count": 22,
   "metadata": {},
   "outputs": [
    {
     "data": {
      "text/html": [
       "<div>\n",
       "<style scoped>\n",
       "    .dataframe tbody tr th:only-of-type {\n",
       "        vertical-align: middle;\n",
       "    }\n",
       "\n",
       "    .dataframe tbody tr th {\n",
       "        vertical-align: top;\n",
       "    }\n",
       "\n",
       "    .dataframe thead th {\n",
       "        text-align: right;\n",
       "    }\n",
       "</style>\n",
       "<table border=\"1\" class=\"dataframe\">\n",
       "  <thead>\n",
       "    <tr style=\"text-align: right;\">\n",
       "      <th></th>\n",
       "      <th>0</th>\n",
       "    </tr>\n",
       "  </thead>\n",
       "  <tbody>\n",
       "    <tr>\n",
       "      <th>count</th>\n",
       "      <td>1742.000000</td>\n",
       "    </tr>\n",
       "    <tr>\n",
       "      <th>mean</th>\n",
       "      <td>1637.366611</td>\n",
       "    </tr>\n",
       "    <tr>\n",
       "      <th>std</th>\n",
       "      <td>1023.712785</td>\n",
       "    </tr>\n",
       "    <tr>\n",
       "      <th>min</th>\n",
       "      <td>401.568935</td>\n",
       "    </tr>\n",
       "    <tr>\n",
       "      <th>25%</th>\n",
       "      <td>1115.304503</td>\n",
       "    </tr>\n",
       "    <tr>\n",
       "      <th>50%</th>\n",
       "      <td>1416.401532</td>\n",
       "    </tr>\n",
       "    <tr>\n",
       "      <th>75%</th>\n",
       "      <td>1847.105269</td>\n",
       "    </tr>\n",
       "    <tr>\n",
       "      <th>max</th>\n",
       "      <td>9009.664354</td>\n",
       "    </tr>\n",
       "  </tbody>\n",
       "</table>\n",
       "</div>"
      ],
      "text/plain": [
       "                 0\n",
       "count  1742.000000\n",
       "mean   1637.366611\n",
       "std    1023.712785\n",
       "min     401.568935\n",
       "25%    1115.304503\n",
       "50%    1416.401532\n",
       "75%    1847.105269\n",
       "max    9009.664354"
      ]
     },
     "execution_count": 22,
     "metadata": {},
     "output_type": "execute_result"
    }
   ],
   "source": [
    "pd.DataFrame(reg.predict(x_test)).describe()"
   ]
  },
  {
   "cell_type": "markdown",
   "metadata": {},
   "source": [
    "Saving the information of the model so that it can be used as a function in the actual web app"
   ]
  },
  {
   "cell_type": "code",
   "execution_count": 23,
   "metadata": {},
   "outputs": [
    {
     "data": {
      "text/plain": [
       "['KNNeighborsRegressor.pkl']"
      ]
     },
     "execution_count": 23,
     "metadata": {},
     "output_type": "execute_result"
    }
   ],
   "source": [
    "from sklearn.externals import joblib\n",
    "joblib.dump(reg, 'KNNeighborsRegressor.pkl', protocol=2)"
   ]
  },
  {
   "cell_type": "code",
   "execution_count": 26,
   "metadata": {},
   "outputs": [
    {
     "name": "stdout",
     "output_type": "stream",
     "text": [
      "<class 'pandas.core.frame.DataFrame'>\n"
     ]
    }
   ],
   "source": [
    "print(type(x_test))"
   ]
  },
  {
   "cell_type": "code",
   "execution_count": 25,
   "metadata": {},
   "outputs": [
    {
     "data": {
      "text/plain": [
       "array([[ 1032.59730164],\n",
       "       [  727.70089652],\n",
       "       [ 1394.87174366],\n",
       "       [ 1131.21680399],\n",
       "       [ 1764.45053077],\n",
       "       [ 1961.43824569],\n",
       "       [ 2076.99874708],\n",
       "       [ 1443.53514471],\n",
       "       [ 2774.04018503],\n",
       "       [ 1264.87087463]])"
      ]
     },
     "execution_count": 25,
     "metadata": {},
     "output_type": "execute_result"
    }
   ],
   "source": [
    "test = joblib.load('KNNeighborsRegressor.pkl') \n",
    "test.predict(x_test[:10])"
   ]
  },
  {
   "cell_type": "markdown",
   "metadata": {},
   "source": [
    "# SVR"
   ]
  },
  {
   "cell_type": "code",
   "execution_count": 478,
   "metadata": {
    "collapsed": true
   },
   "outputs": [],
   "source": [
    "svr_reg = SVR()"
   ]
  },
  {
   "cell_type": "code",
   "execution_count": 479,
   "metadata": {},
   "outputs": [
    {
     "name": "stderr",
     "output_type": "stream",
     "text": [
      "/Users/Simran/anaconda3/lib/python3.6/site-packages/sklearn/utils/validation.py:547: DataConversionWarning: A column-vector y was passed when a 1d array was expected. Please change the shape of y to (n_samples, ), for example using ravel().\n",
      "  y = column_or_1d(y, warn=True)\n"
     ]
    },
    {
     "data": {
      "text/plain": [
       "-0.029058923283726168"
      ]
     },
     "execution_count": 479,
     "metadata": {},
     "output_type": "execute_result"
    }
   ],
   "source": [
    "svr_reg.fit(x_train,y_train)\n",
    "svr_reg.score(x_test,y_test)"
   ]
  },
  {
   "cell_type": "code",
   "execution_count": 480,
   "metadata": {},
   "outputs": [
    {
     "data": {
      "text/html": [
       "<div>\n",
       "<table border=\"1\" class=\"dataframe\">\n",
       "  <thead>\n",
       "    <tr style=\"text-align: right;\">\n",
       "      <th></th>\n",
       "      <th>0</th>\n",
       "    </tr>\n",
       "  </thead>\n",
       "  <tbody>\n",
       "    <tr>\n",
       "      <th>count</th>\n",
       "      <td>1742.000000</td>\n",
       "    </tr>\n",
       "    <tr>\n",
       "      <th>mean</th>\n",
       "      <td>1051.223342</td>\n",
       "    </tr>\n",
       "    <tr>\n",
       "      <th>std</th>\n",
       "      <td>0.563516</td>\n",
       "    </tr>\n",
       "    <tr>\n",
       "      <th>min</th>\n",
       "      <td>1049.505447</td>\n",
       "    </tr>\n",
       "    <tr>\n",
       "      <th>25%</th>\n",
       "      <td>1050.860471</td>\n",
       "    </tr>\n",
       "    <tr>\n",
       "      <th>50%</th>\n",
       "      <td>1051.225237</td>\n",
       "    </tr>\n",
       "    <tr>\n",
       "      <th>75%</th>\n",
       "      <td>1051.693124</td>\n",
       "    </tr>\n",
       "    <tr>\n",
       "      <th>max</th>\n",
       "      <td>1053.043035</td>\n",
       "    </tr>\n",
       "  </tbody>\n",
       "</table>\n",
       "</div>"
      ],
      "text/plain": [
       "                 0\n",
       "count  1742.000000\n",
       "mean   1051.223342\n",
       "std       0.563516\n",
       "min    1049.505447\n",
       "25%    1050.860471\n",
       "50%    1051.225237\n",
       "75%    1051.693124\n",
       "max    1053.043035"
      ]
     },
     "execution_count": 480,
     "metadata": {},
     "output_type": "execute_result"
    }
   ],
   "source": [
    "pd.DataFrame(svr_reg.predict(x_test)).describe()"
   ]
  },
  {
   "cell_type": "markdown",
   "metadata": {},
   "source": [
    "# Gradient Boosting"
   ]
  },
  {
   "cell_type": "code",
   "execution_count": 500,
   "metadata": {
    "collapsed": true
   },
   "outputs": [],
   "source": [
    "from sklearn.ensemble import GradientBoostingRegressor\n",
    "from sklearn.ensemble import RandomForestRegressor"
   ]
  },
  {
   "cell_type": "code",
   "execution_count": 545,
   "metadata": {},
   "outputs": [
    {
     "name": "stdout",
     "output_type": "stream",
     "text": [
      "0.00185978161039\n"
     ]
    },
    {
     "name": "stderr",
     "output_type": "stream",
     "text": [
      "/Users/Simran/anaconda3/lib/python3.6/site-packages/sklearn/utils/validation.py:547: DataConversionWarning: A column-vector y was passed when a 1d array was expected. Please change the shape of y to (n_samples, ), for example using ravel().\n",
      "  y = column_or_1d(y, warn=True)\n"
     ]
    },
    {
     "data": {
      "text/html": [
       "<div>\n",
       "<table border=\"1\" class=\"dataframe\">\n",
       "  <thead>\n",
       "    <tr style=\"text-align: right;\">\n",
       "      <th></th>\n",
       "      <th>0</th>\n",
       "    </tr>\n",
       "  </thead>\n",
       "  <tbody>\n",
       "    <tr>\n",
       "      <th>count</th>\n",
       "      <td>1742.000000</td>\n",
       "    </tr>\n",
       "    <tr>\n",
       "      <th>mean</th>\n",
       "      <td>1638.947889</td>\n",
       "    </tr>\n",
       "    <tr>\n",
       "      <th>std</th>\n",
       "      <td>51.279072</td>\n",
       "    </tr>\n",
       "    <tr>\n",
       "      <th>min</th>\n",
       "      <td>1536.741229</td>\n",
       "    </tr>\n",
       "    <tr>\n",
       "      <th>25%</th>\n",
       "      <td>1627.299308</td>\n",
       "    </tr>\n",
       "    <tr>\n",
       "      <th>50%</th>\n",
       "      <td>1627.299308</td>\n",
       "    </tr>\n",
       "    <tr>\n",
       "      <th>75%</th>\n",
       "      <td>1653.403538</td>\n",
       "    </tr>\n",
       "    <tr>\n",
       "      <th>max</th>\n",
       "      <td>1805.732553</td>\n",
       "    </tr>\n",
       "  </tbody>\n",
       "</table>\n",
       "</div>"
      ],
      "text/plain": [
       "                 0\n",
       "count  1742.000000\n",
       "mean   1638.947889\n",
       "std      51.279072\n",
       "min    1536.741229\n",
       "25%    1627.299308\n",
       "50%    1627.299308\n",
       "75%    1653.403538\n",
       "max    1805.732553"
      ]
     },
     "execution_count": 545,
     "metadata": {},
     "output_type": "execute_result"
    }
   ],
   "source": [
    "GBR = GradientBoostingRegressor(n_estimators=2, max_depth=2, learning_rate=.12, random_state=3, max_features=1)\n",
    "GBR.fit(x_train,y_train)\n",
    "print(GBR.score(x_test,y_test))\n",
    "pd.DataFrame(GBR.predict(x_test)).describe()"
   ]
  },
  {
   "cell_type": "code",
   "execution_count": 561,
   "metadata": {
    "scrolled": true
   },
   "outputs": [
    {
     "name": "stderr",
     "output_type": "stream",
     "text": [
      "/Users/Simran/anaconda3/lib/python3.6/site-packages/sklearn/utils/validation.py:547: DataConversionWarning: A column-vector y was passed when a 1d array was expected. Please change the shape of y to (n_samples, ), for example using ravel().\n",
      "  y = column_or_1d(y, warn=True)\n",
      "/Users/Simran/anaconda3/lib/python3.6/site-packages/sklearn/utils/validation.py:547: DataConversionWarning: A column-vector y was passed when a 1d array was expected. Please change the shape of y to (n_samples, ), for example using ravel().\n",
      "  y = column_or_1d(y, warn=True)\n",
      "/Users/Simran/anaconda3/lib/python3.6/site-packages/sklearn/utils/validation.py:547: DataConversionWarning: A column-vector y was passed when a 1d array was expected. Please change the shape of y to (n_samples, ), for example using ravel().\n",
      "  y = column_or_1d(y, warn=True)\n",
      "/Users/Simran/anaconda3/lib/python3.6/site-packages/sklearn/utils/validation.py:547: DataConversionWarning: A column-vector y was passed when a 1d array was expected. Please change the shape of y to (n_samples, ), for example using ravel().\n",
      "  y = column_or_1d(y, warn=True)\n",
      "/Users/Simran/anaconda3/lib/python3.6/site-packages/sklearn/utils/validation.py:547: DataConversionWarning: A column-vector y was passed when a 1d array was expected. Please change the shape of y to (n_samples, ), for example using ravel().\n",
      "  y = column_or_1d(y, warn=True)\n"
     ]
    },
    {
     "ename": "JoblibValueError",
     "evalue": "JoblibValueError\n___________________________________________________________________________\nMultiprocessing exception:\n...........................................................................\n/Users/Simran/anaconda3/lib/python3.6/runpy.py in _run_module_as_main(mod_name='ipykernel.__main__', alter_argv=1)\n    188         sys.exit(msg)\n    189     main_globals = sys.modules[\"__main__\"].__dict__\n    190     if alter_argv:\n    191         sys.argv[0] = mod_spec.origin\n    192     return _run_code(code, main_globals, None,\n--> 193                      \"__main__\", mod_spec)\n        mod_spec = ModuleSpec(name='ipykernel.__main__', loader=<_f...b/python3.6/site-packages/ipykernel/__main__.py')\n    194 \n    195 def run_module(mod_name, init_globals=None,\n    196                run_name=None, alter_sys=False):\n    197     \"\"\"Execute a module's code without importing it\n\n...........................................................................\n/Users/Simran/anaconda3/lib/python3.6/runpy.py in _run_code(code=<code object <module> at 0x1069bb150, file \"/Use...3.6/site-packages/ipykernel/__main__.py\", line 1>, run_globals={'__annotations__': {}, '__builtins__': <module 'builtins' (built-in)>, '__cached__': '/Users/Simran/anaconda3/lib/python3.6/site-packages/ipykernel/__pycache__/__main__.cpython-36.pyc', '__doc__': None, '__file__': '/Users/Simran/anaconda3/lib/python3.6/site-packages/ipykernel/__main__.py', '__loader__': <_frozen_importlib_external.SourceFileLoader object>, '__name__': '__main__', '__package__': 'ipykernel', '__spec__': ModuleSpec(name='ipykernel.__main__', loader=<_f...b/python3.6/site-packages/ipykernel/__main__.py'), 'app': <module 'ipykernel.kernelapp' from '/Users/Simra.../python3.6/site-packages/ipykernel/kernelapp.py'>}, init_globals=None, mod_name='__main__', mod_spec=ModuleSpec(name='ipykernel.__main__', loader=<_f...b/python3.6/site-packages/ipykernel/__main__.py'), pkg_name='ipykernel', script_name=None)\n     80                        __cached__ = cached,\n     81                        __doc__ = None,\n     82                        __loader__ = loader,\n     83                        __package__ = pkg_name,\n     84                        __spec__ = mod_spec)\n---> 85     exec(code, run_globals)\n        code = <code object <module> at 0x1069bb150, file \"/Use...3.6/site-packages/ipykernel/__main__.py\", line 1>\n        run_globals = {'__annotations__': {}, '__builtins__': <module 'builtins' (built-in)>, '__cached__': '/Users/Simran/anaconda3/lib/python3.6/site-packages/ipykernel/__pycache__/__main__.cpython-36.pyc', '__doc__': None, '__file__': '/Users/Simran/anaconda3/lib/python3.6/site-packages/ipykernel/__main__.py', '__loader__': <_frozen_importlib_external.SourceFileLoader object>, '__name__': '__main__', '__package__': 'ipykernel', '__spec__': ModuleSpec(name='ipykernel.__main__', loader=<_f...b/python3.6/site-packages/ipykernel/__main__.py'), 'app': <module 'ipykernel.kernelapp' from '/Users/Simra.../python3.6/site-packages/ipykernel/kernelapp.py'>}\n     86     return run_globals\n     87 \n     88 def _run_module_code(code, init_globals=None,\n     89                     mod_name=None, mod_spec=None,\n\n...........................................................................\n/Users/Simran/anaconda3/lib/python3.6/site-packages/ipykernel/__main__.py in <module>()\n      1 if __name__ == '__main__':\n      2     from ipykernel import kernelapp as app\n----> 3     app.launch_new_instance()\n\n...........................................................................\n/Users/Simran/anaconda3/lib/python3.6/site-packages/traitlets/config/application.py in launch_instance(cls=<class 'ipykernel.kernelapp.IPKernelApp'>, argv=None, **kwargs={})\n    653 \n    654         If a global instance already exists, this reinitializes and starts it\n    655         \"\"\"\n    656         app = cls.instance(**kwargs)\n    657         app.initialize(argv)\n--> 658         app.start()\n        app.start = <bound method IPKernelApp.start of <ipykernel.kernelapp.IPKernelApp object>>\n    659 \n    660 #-----------------------------------------------------------------------------\n    661 # utility functions, for convenience\n    662 #-----------------------------------------------------------------------------\n\n...........................................................................\n/Users/Simran/anaconda3/lib/python3.6/site-packages/ipykernel/kernelapp.py in start(self=<ipykernel.kernelapp.IPKernelApp object>)\n    472             return self.subapp.start()\n    473         if self.poller is not None:\n    474             self.poller.start()\n    475         self.kernel.start()\n    476         try:\n--> 477             ioloop.IOLoop.instance().start()\n    478         except KeyboardInterrupt:\n    479             pass\n    480 \n    481 launch_new_instance = IPKernelApp.launch_instance\n\n...........................................................................\n/Users/Simran/anaconda3/lib/python3.6/site-packages/zmq/eventloop/ioloop.py in start(self=<zmq.eventloop.ioloop.ZMQIOLoop object>)\n    172             )\n    173         return loop\n    174     \n    175     def start(self):\n    176         try:\n--> 177             super(ZMQIOLoop, self).start()\n        self.start = <bound method ZMQIOLoop.start of <zmq.eventloop.ioloop.ZMQIOLoop object>>\n    178         except ZMQError as e:\n    179             if e.errno == ETERM:\n    180                 # quietly return on ETERM\n    181                 pass\n\n...........................................................................\n/Users/Simran/anaconda3/lib/python3.6/site-packages/tornado/ioloop.py in start(self=<zmq.eventloop.ioloop.ZMQIOLoop object>)\n    883                 self._events.update(event_pairs)\n    884                 while self._events:\n    885                     fd, events = self._events.popitem()\n    886                     try:\n    887                         fd_obj, handler_func = self._handlers[fd]\n--> 888                         handler_func(fd_obj, events)\n        handler_func = <function wrap.<locals>.null_wrapper>\n        fd_obj = <zmq.sugar.socket.Socket object>\n        events = 1\n    889                     except (OSError, IOError) as e:\n    890                         if errno_from_exception(e) == errno.EPIPE:\n    891                             # Happens when the client closes the connection\n    892                             pass\n\n...........................................................................\n/Users/Simran/anaconda3/lib/python3.6/site-packages/tornado/stack_context.py in null_wrapper(*args=(<zmq.sugar.socket.Socket object>, 1), **kwargs={})\n    272         # Fast path when there are no active contexts.\n    273         def null_wrapper(*args, **kwargs):\n    274             try:\n    275                 current_state = _state.contexts\n    276                 _state.contexts = cap_contexts[0]\n--> 277                 return fn(*args, **kwargs)\n        args = (<zmq.sugar.socket.Socket object>, 1)\n        kwargs = {}\n    278             finally:\n    279                 _state.contexts = current_state\n    280         null_wrapper._wrapped = True\n    281         return null_wrapper\n\n...........................................................................\n/Users/Simran/anaconda3/lib/python3.6/site-packages/zmq/eventloop/zmqstream.py in _handle_events(self=<zmq.eventloop.zmqstream.ZMQStream object>, fd=<zmq.sugar.socket.Socket object>, events=1)\n    435             # dispatch events:\n    436             if events & IOLoop.ERROR:\n    437                 gen_log.error(\"got POLLERR event on ZMQStream, which doesn't make sense\")\n    438                 return\n    439             if events & IOLoop.READ:\n--> 440                 self._handle_recv()\n        self._handle_recv = <bound method ZMQStream._handle_recv of <zmq.eventloop.zmqstream.ZMQStream object>>\n    441                 if not self.socket:\n    442                     return\n    443             if events & IOLoop.WRITE:\n    444                 self._handle_send()\n\n...........................................................................\n/Users/Simran/anaconda3/lib/python3.6/site-packages/zmq/eventloop/zmqstream.py in _handle_recv(self=<zmq.eventloop.zmqstream.ZMQStream object>)\n    467                 gen_log.error(\"RECV Error: %s\"%zmq.strerror(e.errno))\n    468         else:\n    469             if self._recv_callback:\n    470                 callback = self._recv_callback\n    471                 # self._recv_callback = None\n--> 472                 self._run_callback(callback, msg)\n        self._run_callback = <bound method ZMQStream._run_callback of <zmq.eventloop.zmqstream.ZMQStream object>>\n        callback = <function wrap.<locals>.null_wrapper>\n        msg = [<zmq.sugar.frame.Frame object>, <zmq.sugar.frame.Frame object>, <zmq.sugar.frame.Frame object>, <zmq.sugar.frame.Frame object>, <zmq.sugar.frame.Frame object>, <zmq.sugar.frame.Frame object>, <zmq.sugar.frame.Frame object>]\n    473                 \n    474         # self.update_state()\n    475         \n    476 \n\n...........................................................................\n/Users/Simran/anaconda3/lib/python3.6/site-packages/zmq/eventloop/zmqstream.py in _run_callback(self=<zmq.eventloop.zmqstream.ZMQStream object>, callback=<function wrap.<locals>.null_wrapper>, *args=([<zmq.sugar.frame.Frame object>, <zmq.sugar.frame.Frame object>, <zmq.sugar.frame.Frame object>, <zmq.sugar.frame.Frame object>, <zmq.sugar.frame.Frame object>, <zmq.sugar.frame.Frame object>, <zmq.sugar.frame.Frame object>],), **kwargs={})\n    409         close our socket.\"\"\"\n    410         try:\n    411             # Use a NullContext to ensure that all StackContexts are run\n    412             # inside our blanket exception handler rather than outside.\n    413             with stack_context.NullContext():\n--> 414                 callback(*args, **kwargs)\n        callback = <function wrap.<locals>.null_wrapper>\n        args = ([<zmq.sugar.frame.Frame object>, <zmq.sugar.frame.Frame object>, <zmq.sugar.frame.Frame object>, <zmq.sugar.frame.Frame object>, <zmq.sugar.frame.Frame object>, <zmq.sugar.frame.Frame object>, <zmq.sugar.frame.Frame object>],)\n        kwargs = {}\n    415         except:\n    416             gen_log.error(\"Uncaught exception, closing connection.\",\n    417                           exc_info=True)\n    418             # Close the socket on an uncaught exception from a user callback\n\n...........................................................................\n/Users/Simran/anaconda3/lib/python3.6/site-packages/tornado/stack_context.py in null_wrapper(*args=([<zmq.sugar.frame.Frame object>, <zmq.sugar.frame.Frame object>, <zmq.sugar.frame.Frame object>, <zmq.sugar.frame.Frame object>, <zmq.sugar.frame.Frame object>, <zmq.sugar.frame.Frame object>, <zmq.sugar.frame.Frame object>],), **kwargs={})\n    272         # Fast path when there are no active contexts.\n    273         def null_wrapper(*args, **kwargs):\n    274             try:\n    275                 current_state = _state.contexts\n    276                 _state.contexts = cap_contexts[0]\n--> 277                 return fn(*args, **kwargs)\n        args = ([<zmq.sugar.frame.Frame object>, <zmq.sugar.frame.Frame object>, <zmq.sugar.frame.Frame object>, <zmq.sugar.frame.Frame object>, <zmq.sugar.frame.Frame object>, <zmq.sugar.frame.Frame object>, <zmq.sugar.frame.Frame object>],)\n        kwargs = {}\n    278             finally:\n    279                 _state.contexts = current_state\n    280         null_wrapper._wrapped = True\n    281         return null_wrapper\n\n...........................................................................\n/Users/Simran/anaconda3/lib/python3.6/site-packages/ipykernel/kernelbase.py in dispatcher(msg=[<zmq.sugar.frame.Frame object>, <zmq.sugar.frame.Frame object>, <zmq.sugar.frame.Frame object>, <zmq.sugar.frame.Frame object>, <zmq.sugar.frame.Frame object>, <zmq.sugar.frame.Frame object>, <zmq.sugar.frame.Frame object>])\n    278         if self.control_stream:\n    279             self.control_stream.on_recv(self.dispatch_control, copy=False)\n    280 \n    281         def make_dispatcher(stream):\n    282             def dispatcher(msg):\n--> 283                 return self.dispatch_shell(stream, msg)\n        msg = [<zmq.sugar.frame.Frame object>, <zmq.sugar.frame.Frame object>, <zmq.sugar.frame.Frame object>, <zmq.sugar.frame.Frame object>, <zmq.sugar.frame.Frame object>, <zmq.sugar.frame.Frame object>, <zmq.sugar.frame.Frame object>]\n    284             return dispatcher\n    285 \n    286         for s in self.shell_streams:\n    287             s.on_recv(make_dispatcher(s), copy=False)\n\n...........................................................................\n/Users/Simran/anaconda3/lib/python3.6/site-packages/ipykernel/kernelbase.py in dispatch_shell(self=<ipykernel.ipkernel.IPythonKernel object>, stream=<zmq.eventloop.zmqstream.ZMQStream object>, msg={'buffers': [], 'content': {'allow_stdin': True, 'code': 'from sklearn.grid_search import GridSearchCV\\npar...=False, cv=5);\\ngrid_search.fit(x_train,y_train);\\n', 'silent': False, 'stop_on_error': True, 'store_history': True, 'user_expressions': {}}, 'header': {'date': datetime.datetime(2017, 11, 7, 5, 7, 16, 668065, tzinfo=tzutc()), 'msg_id': '8E474C1DC8F940C6B939E07CBF317FC1', 'msg_type': 'execute_request', 'session': 'BF9F7FB9822741A6973EBC54E4FAE653', 'username': 'username', 'version': '5.0'}, 'metadata': {}, 'msg_id': '8E474C1DC8F940C6B939E07CBF317FC1', 'msg_type': 'execute_request', 'parent_header': {}})\n    230             self.log.warn(\"Unknown message type: %r\", msg_type)\n    231         else:\n    232             self.log.debug(\"%s: %s\", msg_type, msg)\n    233             self.pre_handler_hook()\n    234             try:\n--> 235                 handler(stream, idents, msg)\n        handler = <bound method Kernel.execute_request of <ipykernel.ipkernel.IPythonKernel object>>\n        stream = <zmq.eventloop.zmqstream.ZMQStream object>\n        idents = [b'BF9F7FB9822741A6973EBC54E4FAE653']\n        msg = {'buffers': [], 'content': {'allow_stdin': True, 'code': 'from sklearn.grid_search import GridSearchCV\\npar...=False, cv=5);\\ngrid_search.fit(x_train,y_train);\\n', 'silent': False, 'stop_on_error': True, 'store_history': True, 'user_expressions': {}}, 'header': {'date': datetime.datetime(2017, 11, 7, 5, 7, 16, 668065, tzinfo=tzutc()), 'msg_id': '8E474C1DC8F940C6B939E07CBF317FC1', 'msg_type': 'execute_request', 'session': 'BF9F7FB9822741A6973EBC54E4FAE653', 'username': 'username', 'version': '5.0'}, 'metadata': {}, 'msg_id': '8E474C1DC8F940C6B939E07CBF317FC1', 'msg_type': 'execute_request', 'parent_header': {}}\n    236             except Exception:\n    237                 self.log.error(\"Exception in message handler:\", exc_info=True)\n    238             finally:\n    239                 self.post_handler_hook()\n\n...........................................................................\n/Users/Simran/anaconda3/lib/python3.6/site-packages/ipykernel/kernelbase.py in execute_request(self=<ipykernel.ipkernel.IPythonKernel object>, stream=<zmq.eventloop.zmqstream.ZMQStream object>, ident=[b'BF9F7FB9822741A6973EBC54E4FAE653'], parent={'buffers': [], 'content': {'allow_stdin': True, 'code': 'from sklearn.grid_search import GridSearchCV\\npar...=False, cv=5);\\ngrid_search.fit(x_train,y_train);\\n', 'silent': False, 'stop_on_error': True, 'store_history': True, 'user_expressions': {}}, 'header': {'date': datetime.datetime(2017, 11, 7, 5, 7, 16, 668065, tzinfo=tzutc()), 'msg_id': '8E474C1DC8F940C6B939E07CBF317FC1', 'msg_type': 'execute_request', 'session': 'BF9F7FB9822741A6973EBC54E4FAE653', 'username': 'username', 'version': '5.0'}, 'metadata': {}, 'msg_id': '8E474C1DC8F940C6B939E07CBF317FC1', 'msg_type': 'execute_request', 'parent_header': {}})\n    394         if not silent:\n    395             self.execution_count += 1\n    396             self._publish_execute_input(code, parent, self.execution_count)\n    397 \n    398         reply_content = self.do_execute(code, silent, store_history,\n--> 399                                         user_expressions, allow_stdin)\n        user_expressions = {}\n        allow_stdin = True\n    400 \n    401         # Flush output before sending the reply.\n    402         sys.stdout.flush()\n    403         sys.stderr.flush()\n\n...........................................................................\n/Users/Simran/anaconda3/lib/python3.6/site-packages/ipykernel/ipkernel.py in do_execute(self=<ipykernel.ipkernel.IPythonKernel object>, code='from sklearn.grid_search import GridSearchCV\\npar...=False, cv=5);\\ngrid_search.fit(x_train,y_train);\\n', silent=False, store_history=True, user_expressions={}, allow_stdin=True)\n    191 \n    192         self._forward_input(allow_stdin)\n    193 \n    194         reply_content = {}\n    195         try:\n--> 196             res = shell.run_cell(code, store_history=store_history, silent=silent)\n        res = undefined\n        shell.run_cell = <bound method ZMQInteractiveShell.run_cell of <ipykernel.zmqshell.ZMQInteractiveShell object>>\n        code = 'from sklearn.grid_search import GridSearchCV\\npar...=False, cv=5);\\ngrid_search.fit(x_train,y_train);\\n'\n        store_history = True\n        silent = False\n    197         finally:\n    198             self._restore_input()\n    199 \n    200         if res.error_before_exec is not None:\n\n...........................................................................\n/Users/Simran/anaconda3/lib/python3.6/site-packages/ipykernel/zmqshell.py in run_cell(self=<ipykernel.zmqshell.ZMQInteractiveShell object>, *args=('from sklearn.grid_search import GridSearchCV\\npar...=False, cv=5);\\ngrid_search.fit(x_train,y_train);\\n',), **kwargs={'silent': False, 'store_history': True})\n    528             )\n    529         self.payload_manager.write_payload(payload)\n    530 \n    531     def run_cell(self, *args, **kwargs):\n    532         self._last_traceback = None\n--> 533         return super(ZMQInteractiveShell, self).run_cell(*args, **kwargs)\n        self.run_cell = <bound method ZMQInteractiveShell.run_cell of <ipykernel.zmqshell.ZMQInteractiveShell object>>\n        args = ('from sklearn.grid_search import GridSearchCV\\npar...=False, cv=5);\\ngrid_search.fit(x_train,y_train);\\n',)\n        kwargs = {'silent': False, 'store_history': True}\n    534 \n    535     def _showtraceback(self, etype, evalue, stb):\n    536         # try to preserve ordering of tracebacks and print statements\n    537         sys.stdout.flush()\n\n...........................................................................\n/Users/Simran/anaconda3/lib/python3.6/site-packages/IPython/core/interactiveshell.py in run_cell(self=<ipykernel.zmqshell.ZMQInteractiveShell object>, raw_cell='from sklearn.grid_search import GridSearchCV\\npar...=False, cv=5);\\ngrid_search.fit(x_train,y_train);\\n', store_history=True, silent=False, shell_futures=True)\n   2693                 self.displayhook.exec_result = result\n   2694 \n   2695                 # Execute the user code\n   2696                 interactivity = \"none\" if silent else self.ast_node_interactivity\n   2697                 has_raised = self.run_ast_nodes(code_ast.body, cell_name,\n-> 2698                    interactivity=interactivity, compiler=compiler, result=result)\n        interactivity = 'last_expr'\n        compiler = <IPython.core.compilerop.CachingCompiler object>\n   2699                 \n   2700                 self.last_execution_succeeded = not has_raised\n   2701 \n   2702                 # Reset this so later displayed values do not modify the\n\n...........................................................................\n/Users/Simran/anaconda3/lib/python3.6/site-packages/IPython/core/interactiveshell.py in run_ast_nodes(self=<ipykernel.zmqshell.ZMQInteractiveShell object>, nodelist=[<_ast.ImportFrom object>, <_ast.Assign object>, <_ast.Assign object>, <_ast.Expr object>], cell_name='<ipython-input-561-496ea7e886e7>', interactivity='last', compiler=<IPython.core.compilerop.CachingCompiler object>, result=<ExecutionResult object at 116252128, execution_..._before_exec=None error_in_exec=None result=None>)\n   2803                     return True\n   2804 \n   2805             for i, node in enumerate(to_run_interactive):\n   2806                 mod = ast.Interactive([node])\n   2807                 code = compiler(mod, cell_name, \"single\")\n-> 2808                 if self.run_code(code, result):\n        self.run_code = <bound method InteractiveShell.run_code of <ipykernel.zmqshell.ZMQInteractiveShell object>>\n        code = <code object <module> at 0x135e9e930, file \"<ipython-input-561-496ea7e886e7>\", line 5>\n        result = <ExecutionResult object at 116252128, execution_..._before_exec=None error_in_exec=None result=None>\n   2809                     return True\n   2810 \n   2811             # Flush softspace\n   2812             if softspace(sys.stdout, 0):\n\n...........................................................................\n/Users/Simran/anaconda3/lib/python3.6/site-packages/IPython/core/interactiveshell.py in run_code(self=<ipykernel.zmqshell.ZMQInteractiveShell object>, code_obj=<code object <module> at 0x135e9e930, file \"<ipython-input-561-496ea7e886e7>\", line 5>, result=<ExecutionResult object at 116252128, execution_..._before_exec=None error_in_exec=None result=None>)\n   2857         outflag = True  # happens in more places, so it's easier as default\n   2858         try:\n   2859             try:\n   2860                 self.hooks.pre_run_code_hook()\n   2861                 #rprint('Running code', repr(code_obj)) # dbg\n-> 2862                 exec(code_obj, self.user_global_ns, self.user_ns)\n        code_obj = <code object <module> at 0x135e9e930, file \"<ipython-input-561-496ea7e886e7>\", line 5>\n        self.user_global_ns = {'Axes3D': <class 'mpl_toolkits.mplot3d.axes3d.Axes3D'>, 'GBR': GradientBoostingRegressor(alpha=0.9, criterion='...le=1.0,\n             verbose=0, warm_start=False), 'GradientBoostingClassifier': <class 'sklearn.ensemble.gradient_boosting.GradientBoostingClassifier'>, 'GradientBoostingRegressor': <class 'sklearn.ensemble.gradient_boosting.GradientBoostingRegressor'>, 'GridSearchCV': <class 'sklearn.grid_search.GridSearchCV'>, 'In': ['', \"import numpy as np\\nimport pandas as pd\\nimport ma...toolkits\\nget_ipython().magic('matplotlib inline')\", \"import numpy as np\\nimport pandas as pd\\nimport ma...toolkits\\nget_ipython().magic('matplotlib inline')\", \"import numpy as np\\nimport pandas as pd\\nimport ma...toolkits\\nget_ipython().magic('matplotlib inline')\", \"import numpy as np\\nimport pandas as pd\\nimport ma...toolkits\\nget_ipython().magic('matplotlib inline')\", 'data = pd.read_csv(\"/data/listings.csv\")', 'data = pd.read_csv(\"/data/listings.csv\")', 'data = pd.read_csv(\"//data/listings.csv\")', 'data = pd.read_csv(\"./data/listings.csv\")', 'data.head()', 'list(data)', \"df1 = df[['latitue','longitutde']]\", \"data = data[['latitue','longitude']]\", \"data = data[['latitude','longitude']]\", \"data = data[['latitude','longitude', 'price', 'weekly_price']]\", \"data = data[['latitude','longitude', 'price', 'weekly_price']]\", 'data = pd.read_csv(\"./data/listings.csv\")', 'list(data)', \"data = data['latitude','longitude', 'price', 'weekly_price']\", \"data = data[['latitude','longitude', 'price', 'weekly_price']]\", ...], 'KNeighborsRegressor': <class 'sklearn.neighbors.regression.KNeighborsRegressor'>, 'LinearRegression': <class 'sklearn.linear_model.base.LinearRegression'>, 'Out': {9:          id                            listing_u...8  \n4                NaN  \n\n[5 rows x 95 columns], 10: ['id', 'listing_url', 'scrape_id', 'last_scraped', 'name', 'summary', 'space', 'description', 'experiences_offered', 'neighborhood_overview', 'notes', 'transit', 'access', 'interaction', 'house_rules', 'thumbnail_url', 'medium_url', 'picture_url', 'xl_picture_url', 'host_id', ...], 17: ['id', 'listing_url', 'scrape_id', 'last_scraped', 'name', 'summary', 'space', 'description', 'experiences_offered', 'neighborhood_overview', 'notes', 'transit', 'access', 'interaction', 'house_rules', 'thumbnail_url', 'medium_url', 'picture_url', 'xl_picture_url', 'host_id', ...], 20:     latitude   longitude    price weekly_price\n0...aN\n4  37.760051 -122.421352  $200.00          NaN, 23:        latitude   longitude      price weekly_pr...    $100.00          NaN\n\n[8706 rows x 4 columns], 24:        latitude   longitude      price weekly_pr...    $100.00          NaN\n\n[8706 rows x 4 columns], 25:        latitude   longitude      price weekly_pr...    $100.00          NaN\n\n[8706 rows x 4 columns], 26:        latitude   longitude      price weekly_pr...    $100.00          NaN\n\n[8706 rows x 4 columns], 28:     latitude   longitude    price weekly_price\n0...aN\n4  37.760051 -122.421352  $200.00          NaN, 30:     latitude   longitude    price weekly_price\n0...aN\n4  37.760051 -122.421352  $200.00          NaN, ...}, 'RFR': RandomForestRegressor(bootstrap=True, criterion=...lse, random_state=3, verbose=0, warm_start=False), ...}\n        self.user_ns = {'Axes3D': <class 'mpl_toolkits.mplot3d.axes3d.Axes3D'>, 'GBR': GradientBoostingRegressor(alpha=0.9, criterion='...le=1.0,\n             verbose=0, warm_start=False), 'GradientBoostingClassifier': <class 'sklearn.ensemble.gradient_boosting.GradientBoostingClassifier'>, 'GradientBoostingRegressor': <class 'sklearn.ensemble.gradient_boosting.GradientBoostingRegressor'>, 'GridSearchCV': <class 'sklearn.grid_search.GridSearchCV'>, 'In': ['', \"import numpy as np\\nimport pandas as pd\\nimport ma...toolkits\\nget_ipython().magic('matplotlib inline')\", \"import numpy as np\\nimport pandas as pd\\nimport ma...toolkits\\nget_ipython().magic('matplotlib inline')\", \"import numpy as np\\nimport pandas as pd\\nimport ma...toolkits\\nget_ipython().magic('matplotlib inline')\", \"import numpy as np\\nimport pandas as pd\\nimport ma...toolkits\\nget_ipython().magic('matplotlib inline')\", 'data = pd.read_csv(\"/data/listings.csv\")', 'data = pd.read_csv(\"/data/listings.csv\")', 'data = pd.read_csv(\"//data/listings.csv\")', 'data = pd.read_csv(\"./data/listings.csv\")', 'data.head()', 'list(data)', \"df1 = df[['latitue','longitutde']]\", \"data = data[['latitue','longitude']]\", \"data = data[['latitude','longitude']]\", \"data = data[['latitude','longitude', 'price', 'weekly_price']]\", \"data = data[['latitude','longitude', 'price', 'weekly_price']]\", 'data = pd.read_csv(\"./data/listings.csv\")', 'list(data)', \"data = data['latitude','longitude', 'price', 'weekly_price']\", \"data = data[['latitude','longitude', 'price', 'weekly_price']]\", ...], 'KNeighborsRegressor': <class 'sklearn.neighbors.regression.KNeighborsRegressor'>, 'LinearRegression': <class 'sklearn.linear_model.base.LinearRegression'>, 'Out': {9:          id                            listing_u...8  \n4                NaN  \n\n[5 rows x 95 columns], 10: ['id', 'listing_url', 'scrape_id', 'last_scraped', 'name', 'summary', 'space', 'description', 'experiences_offered', 'neighborhood_overview', 'notes', 'transit', 'access', 'interaction', 'house_rules', 'thumbnail_url', 'medium_url', 'picture_url', 'xl_picture_url', 'host_id', ...], 17: ['id', 'listing_url', 'scrape_id', 'last_scraped', 'name', 'summary', 'space', 'description', 'experiences_offered', 'neighborhood_overview', 'notes', 'transit', 'access', 'interaction', 'house_rules', 'thumbnail_url', 'medium_url', 'picture_url', 'xl_picture_url', 'host_id', ...], 20:     latitude   longitude    price weekly_price\n0...aN\n4  37.760051 -122.421352  $200.00          NaN, 23:        latitude   longitude      price weekly_pr...    $100.00          NaN\n\n[8706 rows x 4 columns], 24:        latitude   longitude      price weekly_pr...    $100.00          NaN\n\n[8706 rows x 4 columns], 25:        latitude   longitude      price weekly_pr...    $100.00          NaN\n\n[8706 rows x 4 columns], 26:        latitude   longitude      price weekly_pr...    $100.00          NaN\n\n[8706 rows x 4 columns], 28:     latitude   longitude    price weekly_price\n0...aN\n4  37.760051 -122.421352  $200.00          NaN, 30:     latitude   longitude    price weekly_price\n0...aN\n4  37.760051 -122.421352  $200.00          NaN, ...}, 'RFR': RandomForestRegressor(bootstrap=True, criterion=...lse, random_state=3, verbose=0, warm_start=False), ...}\n   2863             finally:\n   2864                 # Reset our crash handler in place\n   2865                 sys.excepthook = old_excepthook\n   2866         except SystemExit as e:\n\n...........................................................................\n/Users/Simran/GitHub/Capital-One-Project/<ipython-input-561-496ea7e886e7> in <module>()\n      1 from sklearn.grid_search import GridSearchCV\n      2 param_test = {'max_depth':list(range(5,16,2)), 'min_samples_split':list(range(200,1001,200))};\n      3 grid_search = GridSearchCV(estimator = GradientBoostingClassifier(learning_rate=0.1, n_estimators=60, max_features='sqrt', subsample=0.8, random_state=10), \n      4 param_grid = param_test, scoring='roc_auc',n_jobs=4,iid=False, cv=5);\n----> 5 grid_search.fit(x_train,y_train);\n\n...........................................................................\n/Users/Simran/anaconda3/lib/python3.6/site-packages/sklearn/grid_search.py in fit(self=GridSearchCV(cv=5, error_score='raise',\n       e..._jobs', refit=True, scoring='roc_auc', verbose=0), X=       latitude   longitude\n3220  37.764646 -122...6  37.744407 -122.428259\n\n[6964 rows x 2 columns], y=      weekly_price\n3220   1273.709934\n6772   151...00000\n7336   1206.317874\n\n[6964 rows x 1 columns])\n    833         y : array-like, shape = [n_samples] or [n_samples, n_output], optional\n    834             Target relative to X for classification or regression;\n    835             None for unsupervised learning.\n    836 \n    837         \"\"\"\n--> 838         return self._fit(X, y, ParameterGrid(self.param_grid))\n        self._fit = <bound method BaseSearchCV._fit of GridSearchCV(...jobs', refit=True, scoring='roc_auc', verbose=0)>\n        X =        latitude   longitude\n3220  37.764646 -122...6  37.744407 -122.428259\n\n[6964 rows x 2 columns]\n        y =       weekly_price\n3220   1273.709934\n6772   151...00000\n7336   1206.317874\n\n[6964 rows x 1 columns]\n        self.param_grid = {'max_depth': [5, 7, 9, 11, 13, 15], 'min_samples_split': [200, 400, 600, 800, 1000]}\n    839 \n    840 \n    841 class RandomizedSearchCV(BaseSearchCV):\n    842     \"\"\"Randomized search on hyper parameters.\n\n...........................................................................\n/Users/Simran/anaconda3/lib/python3.6/site-packages/sklearn/grid_search.py in _fit(self=GridSearchCV(cv=5, error_score='raise',\n       e..._jobs', refit=True, scoring='roc_auc', verbose=0), X=       latitude   longitude\n3220  37.764646 -122...6  37.744407 -122.428259\n\n[6964 rows x 2 columns], y=      weekly_price\n3220   1273.709934\n6772   151...00000\n7336   1206.317874\n\n[6964 rows x 1 columns], parameter_iterable=<sklearn.grid_search.ParameterGrid object>)\n    569         )(\n    570             delayed(_fit_and_score)(clone(base_estimator), X, y, self.scorer_,\n    571                                     train, test, self.verbose, parameters,\n    572                                     self.fit_params, return_parameters=True,\n    573                                     error_score=self.error_score)\n--> 574                 for parameters in parameter_iterable\n        parameters = undefined\n        parameter_iterable = <sklearn.grid_search.ParameterGrid object>\n    575                 for train, test in cv)\n    576 \n    577         # Out is a list of triplet: score, estimator, n_test_samples\n    578         n_fits = len(out)\n\n...........................................................................\n/Users/Simran/anaconda3/lib/python3.6/site-packages/sklearn/externals/joblib/parallel.py in __call__(self=Parallel(n_jobs=4), iterable=<generator object BaseSearchCV._fit.<locals>.<genexpr>>)\n    784             if pre_dispatch == \"all\" or n_jobs == 1:\n    785                 # The iterable was consumed all at once by the above for loop.\n    786                 # No need to wait for async callbacks to trigger to\n    787                 # consumption.\n    788                 self._iterating = False\n--> 789             self.retrieve()\n        self.retrieve = <bound method Parallel.retrieve of Parallel(n_jobs=4)>\n    790             # Make sure that we get a last message telling us we are done\n    791             elapsed_time = time.time() - self._start_time\n    792             self._print('Done %3i out of %3i | elapsed: %s finished',\n    793                         (len(self._output), len(self._output),\n\n---------------------------------------------------------------------------\nSub-process traceback:\n---------------------------------------------------------------------------\nValueError                                         Tue Nov  7 00:07:16 2017\nPID: 50420                 Python 3.6.3: /Users/Simran/anaconda3/bin/python\n...........................................................................\n/Users/Simran/anaconda3/lib/python3.6/site-packages/sklearn/externals/joblib/parallel.py in __call__(self=<sklearn.externals.joblib.parallel.BatchedCalls object>)\n    126     def __init__(self, iterator_slice):\n    127         self.items = list(iterator_slice)\n    128         self._size = len(self.items)\n    129 \n    130     def __call__(self):\n--> 131         return [func(*args, **kwargs) for func, args, kwargs in self.items]\n        self.items = [(<function _fit_and_score>, (GradientBoostingClassifier(criterion='friedman_m...e=0.8, verbose=0,\n              warm_start=False),        latitude   longitude\n3220  37.764646 -122...6  37.744407 -122.428259\n\n[6964 rows x 2 columns],       weekly_price\n3220   1273.709934\n6772   151...00000\n7336   1206.317874\n\n[6964 rows x 1 columns], make_scorer(roc_auc_score, needs_threshold=True), array([1393, 1394, 1395, ..., 6961, 6962, 6963]), array([   0,    1,    2, ..., 1390, 1391, 1392]), 0, {'max_depth': 5, 'min_samples_split': 200}, {}), {'error_score': 'raise', 'return_parameters': True})]\n    132 \n    133     def __len__(self):\n    134         return self._size\n    135 \n\n...........................................................................\n/Users/Simran/anaconda3/lib/python3.6/site-packages/sklearn/externals/joblib/parallel.py in <listcomp>(.0=<list_iterator object>)\n    126     def __init__(self, iterator_slice):\n    127         self.items = list(iterator_slice)\n    128         self._size = len(self.items)\n    129 \n    130     def __call__(self):\n--> 131         return [func(*args, **kwargs) for func, args, kwargs in self.items]\n        func = <function _fit_and_score>\n        args = (GradientBoostingClassifier(criterion='friedman_m...e=0.8, verbose=0,\n              warm_start=False),        latitude   longitude\n3220  37.764646 -122...6  37.744407 -122.428259\n\n[6964 rows x 2 columns],       weekly_price\n3220   1273.709934\n6772   151...00000\n7336   1206.317874\n\n[6964 rows x 1 columns], make_scorer(roc_auc_score, needs_threshold=True), array([1393, 1394, 1395, ..., 6961, 6962, 6963]), array([   0,    1,    2, ..., 1390, 1391, 1392]), 0, {'max_depth': 5, 'min_samples_split': 200}, {})\n        kwargs = {'error_score': 'raise', 'return_parameters': True}\n    132 \n    133     def __len__(self):\n    134         return self._size\n    135 \n\n...........................................................................\n/Users/Simran/anaconda3/lib/python3.6/site-packages/sklearn/cross_validation.py in _fit_and_score(estimator=GradientBoostingClassifier(criterion='friedman_m...e=0.8, verbose=0,\n              warm_start=False), X=       latitude   longitude\n3220  37.764646 -122...6  37.744407 -122.428259\n\n[6964 rows x 2 columns], y=      weekly_price\n3220   1273.709934\n6772   151...00000\n7336   1206.317874\n\n[6964 rows x 1 columns], scorer=make_scorer(roc_auc_score, needs_threshold=True), train=array([1393, 1394, 1395, ..., 6961, 6962, 6963]), test=array([   0,    1,    2, ..., 1390, 1391, 1392]), verbose=0, parameters={'max_depth': 5, 'min_samples_split': 200}, fit_params={}, return_train_score=False, return_parameters=True, error_score='raise')\n   1670 \n   1671     try:\n   1672         if y_train is None:\n   1673             estimator.fit(X_train, **fit_params)\n   1674         else:\n-> 1675             estimator.fit(X_train, y_train, **fit_params)\n        estimator.fit = <bound method BaseGradientBoosting.fit of Gradie...=0.8, verbose=0,\n              warm_start=False)>\n        X_train =        latitude   longitude\n7932  37.728916 -122...6  37.744407 -122.428259\n\n[5571 rows x 2 columns]\n        y_train =       weekly_price\n7932    438.048390\n2183    57...00000\n7336   1206.317874\n\n[5571 rows x 1 columns]\n        fit_params = {}\n   1676 \n   1677     except Exception as e:\n   1678         if error_score == 'raise':\n   1679             raise\n\n...........................................................................\n/Users/Simran/anaconda3/lib/python3.6/site-packages/sklearn/ensemble/gradient_boosting.py in fit(self=GradientBoostingClassifier(criterion='friedman_m...e=0.8, verbose=0,\n              warm_start=False), X=array([[  37.72891617, -122.40377045],\n       [ ...  [  37.74440765, -122.4282608 ]], dtype=float32), y=array([  438.04839012,   572.83251015,  1785.889...70472021,\n        3050.        ,  1206.31787432]), sample_weight=array([ 1.,  1.,  1., ...,  1.,  1.,  1.], dtype=float32), monitor=None)\n    983         else:\n    984             sample_weight = column_or_1d(sample_weight, warn=True)\n    985 \n    986         check_consistent_length(X, y, sample_weight)\n    987 \n--> 988         y = self._validate_y(y)\n        y = array([  438.04839012,   572.83251015,  1785.889...70472021,\n        3050.        ,  1206.31787432])\n        self._validate_y = <bound method GradientBoostingClassifier._valida...=0.8, verbose=0,\n              warm_start=False)>\n    989 \n    990         random_state = check_random_state(self.random_state)\n    991         self._check_params()\n    992 \n\n...........................................................................\n/Users/Simran/anaconda3/lib/python3.6/site-packages/sklearn/ensemble/gradient_boosting.py in _validate_y(self=GradientBoostingClassifier(criterion='friedman_m...e=0.8, verbose=0,\n              warm_start=False), y=array([  438.04839012,   572.83251015,  1785.889...70472021,\n        3050.        ,  1206.31787432]))\n   1458             min_impurity_split=min_impurity_split,\n   1459             warm_start=warm_start,\n   1460             presort=presort)\n   1461 \n   1462     def _validate_y(self, y):\n-> 1463         check_classification_targets(y)\n        y = array([  438.04839012,   572.83251015,  1785.889...70472021,\n        3050.        ,  1206.31787432])\n   1464         self.classes_, y = np.unique(y, return_inverse=True)\n   1465         self.n_classes_ = len(self.classes_)\n   1466         return y\n   1467 \n\n...........................................................................\n/Users/Simran/anaconda3/lib/python3.6/site-packages/sklearn/utils/multiclass.py in check_classification_targets(y=array([  438.04839012,   572.83251015,  1785.889...70472021,\n        3050.        ,  1206.31787432]))\n    167     y : array-like\n    168     \"\"\"\n    169     y_type = type_of_target(y)\n    170     if y_type not in ['binary', 'multiclass', 'multiclass-multioutput',\n    171                       'multilabel-indicator', 'multilabel-sequences']:\n--> 172         raise ValueError(\"Unknown label type: %r\" % y_type)\n        y_type = 'continuous'\n    173 \n    174 \n    175 def type_of_target(y):\n    176     \"\"\"Determine the type of data indicated by the target.\n\nValueError: Unknown label type: 'continuous'\n___________________________________________________________________________",
     "output_type": "error",
     "traceback": [
      "\u001b[0;31m---------------------------------------------------------------------------\u001b[0m",
      "\u001b[0;31mRemoteTraceback\u001b[0m                           Traceback (most recent call last)",
      "\u001b[0;31mRemoteTraceback\u001b[0m: \n\"\"\"\nTraceback (most recent call last):\n  File \"/Users/Simran/anaconda3/lib/python3.6/site-packages/sklearn/externals/joblib/_parallel_backends.py\", line 350, in __call__\n    return self.func(*args, **kwargs)\n  File \"/Users/Simran/anaconda3/lib/python3.6/site-packages/sklearn/externals/joblib/parallel.py\", line 131, in __call__\n    return [func(*args, **kwargs) for func, args, kwargs in self.items]\n  File \"/Users/Simran/anaconda3/lib/python3.6/site-packages/sklearn/externals/joblib/parallel.py\", line 131, in <listcomp>\n    return [func(*args, **kwargs) for func, args, kwargs in self.items]\n  File \"/Users/Simran/anaconda3/lib/python3.6/site-packages/sklearn/cross_validation.py\", line 1675, in _fit_and_score\n    estimator.fit(X_train, y_train, **fit_params)\n  File \"/Users/Simran/anaconda3/lib/python3.6/site-packages/sklearn/ensemble/gradient_boosting.py\", line 988, in fit\n    y = self._validate_y(y)\n  File \"/Users/Simran/anaconda3/lib/python3.6/site-packages/sklearn/ensemble/gradient_boosting.py\", line 1463, in _validate_y\n    check_classification_targets(y)\n  File \"/Users/Simran/anaconda3/lib/python3.6/site-packages/sklearn/utils/multiclass.py\", line 172, in check_classification_targets\n    raise ValueError(\"Unknown label type: %r\" % y_type)\nValueError: Unknown label type: 'continuous'\n\nDuring handling of the above exception, another exception occurred:\n\nTraceback (most recent call last):\n  File \"/Users/Simran/anaconda3/lib/python3.6/multiprocessing/pool.py\", line 119, in worker\n    result = (True, func(*args, **kwds))\n  File \"/Users/Simran/anaconda3/lib/python3.6/site-packages/sklearn/externals/joblib/_parallel_backends.py\", line 359, in __call__\n    raise TransportableException(text, e_type)\nsklearn.externals.joblib.my_exceptions.TransportableException: TransportableException\n___________________________________________________________________________\nValueError                                         Tue Nov  7 00:07:16 2017\nPID: 50420                 Python 3.6.3: /Users/Simran/anaconda3/bin/python\n...........................................................................\n/Users/Simran/anaconda3/lib/python3.6/site-packages/sklearn/externals/joblib/parallel.py in __call__(self=<sklearn.externals.joblib.parallel.BatchedCalls object>)\n    126     def __init__(self, iterator_slice):\n    127         self.items = list(iterator_slice)\n    128         self._size = len(self.items)\n    129 \n    130     def __call__(self):\n--> 131         return [func(*args, **kwargs) for func, args, kwargs in self.items]\n        self.items = [(<function _fit_and_score>, (GradientBoostingClassifier(criterion='friedman_m...e=0.8, verbose=0,\n              warm_start=False),        latitude   longitude\n3220  37.764646 -122...6  37.744407 -122.428259\n\n[6964 rows x 2 columns],       weekly_price\n3220   1273.709934\n6772   151...00000\n7336   1206.317874\n\n[6964 rows x 1 columns], make_scorer(roc_auc_score, needs_threshold=True), array([1393, 1394, 1395, ..., 6961, 6962, 6963]), array([   0,    1,    2, ..., 1390, 1391, 1392]), 0, {'max_depth': 5, 'min_samples_split': 200}, {}), {'error_score': 'raise', 'return_parameters': True})]\n    132 \n    133     def __len__(self):\n    134         return self._size\n    135 \n\n...........................................................................\n/Users/Simran/anaconda3/lib/python3.6/site-packages/sklearn/externals/joblib/parallel.py in <listcomp>(.0=<list_iterator object>)\n    126     def __init__(self, iterator_slice):\n    127         self.items = list(iterator_slice)\n    128         self._size = len(self.items)\n    129 \n    130     def __call__(self):\n--> 131         return [func(*args, **kwargs) for func, args, kwargs in self.items]\n        func = <function _fit_and_score>\n        args = (GradientBoostingClassifier(criterion='friedman_m...e=0.8, verbose=0,\n              warm_start=False),        latitude   longitude\n3220  37.764646 -122...6  37.744407 -122.428259\n\n[6964 rows x 2 columns],       weekly_price\n3220   1273.709934\n6772   151...00000\n7336   1206.317874\n\n[6964 rows x 1 columns], make_scorer(roc_auc_score, needs_threshold=True), array([1393, 1394, 1395, ..., 6961, 6962, 6963]), array([   0,    1,    2, ..., 1390, 1391, 1392]), 0, {'max_depth': 5, 'min_samples_split': 200}, {})\n        kwargs = {'error_score': 'raise', 'return_parameters': True}\n    132 \n    133     def __len__(self):\n    134         return self._size\n    135 \n\n...........................................................................\n/Users/Simran/anaconda3/lib/python3.6/site-packages/sklearn/cross_validation.py in _fit_and_score(estimator=GradientBoostingClassifier(criterion='friedman_m...e=0.8, verbose=0,\n              warm_start=False), X=       latitude   longitude\n3220  37.764646 -122...6  37.744407 -122.428259\n\n[6964 rows x 2 columns], y=      weekly_price\n3220   1273.709934\n6772   151...00000\n7336   1206.317874\n\n[6964 rows x 1 columns], scorer=make_scorer(roc_auc_score, needs_threshold=True), train=array([1393, 1394, 1395, ..., 6961, 6962, 6963]), test=array([   0,    1,    2, ..., 1390, 1391, 1392]), verbose=0, parameters={'max_depth': 5, 'min_samples_split': 200}, fit_params={}, return_train_score=False, return_parameters=True, error_score='raise')\n   1670 \n   1671     try:\n   1672         if y_train is None:\n   1673             estimator.fit(X_train, **fit_params)\n   1674         else:\n-> 1675             estimator.fit(X_train, y_train, **fit_params)\n        estimator.fit = <bound method BaseGradientBoosting.fit of Gradie...=0.8, verbose=0,\n              warm_start=False)>\n        X_train =        latitude   longitude\n7932  37.728916 -122...6  37.744407 -122.428259\n\n[5571 rows x 2 columns]\n        y_train =       weekly_price\n7932    438.048390\n2183    57...00000\n7336   1206.317874\n\n[5571 rows x 1 columns]\n        fit_params = {}\n   1676 \n   1677     except Exception as e:\n   1678         if error_score == 'raise':\n   1679             raise\n\n...........................................................................\n/Users/Simran/anaconda3/lib/python3.6/site-packages/sklearn/ensemble/gradient_boosting.py in fit(self=GradientBoostingClassifier(criterion='friedman_m...e=0.8, verbose=0,\n              warm_start=False), X=array([[  37.72891617, -122.40377045],\n       [ ...  [  37.74440765, -122.4282608 ]], dtype=float32), y=array([  438.04839012,   572.83251015,  1785.889...70472021,\n        3050.        ,  1206.31787432]), sample_weight=array([ 1.,  1.,  1., ...,  1.,  1.,  1.], dtype=float32), monitor=None)\n    983         else:\n    984             sample_weight = column_or_1d(sample_weight, warn=True)\n    985 \n    986         check_consistent_length(X, y, sample_weight)\n    987 \n--> 988         y = self._validate_y(y)\n        y = array([  438.04839012,   572.83251015,  1785.889...70472021,\n        3050.        ,  1206.31787432])\n        self._validate_y = <bound method GradientBoostingClassifier._valida...=0.8, verbose=0,\n              warm_start=False)>\n    989 \n    990         random_state = check_random_state(self.random_state)\n    991         self._check_params()\n    992 \n\n...........................................................................\n/Users/Simran/anaconda3/lib/python3.6/site-packages/sklearn/ensemble/gradient_boosting.py in _validate_y(self=GradientBoostingClassifier(criterion='friedman_m...e=0.8, verbose=0,\n              warm_start=False), y=array([  438.04839012,   572.83251015,  1785.889...70472021,\n        3050.        ,  1206.31787432]))\n   1458             min_impurity_split=min_impurity_split,\n   1459             warm_start=warm_start,\n   1460             presort=presort)\n   1461 \n   1462     def _validate_y(self, y):\n-> 1463         check_classification_targets(y)\n        y = array([  438.04839012,   572.83251015,  1785.889...70472021,\n        3050.        ,  1206.31787432])\n   1464         self.classes_, y = np.unique(y, return_inverse=True)\n   1465         self.n_classes_ = len(self.classes_)\n   1466         return y\n   1467 \n\n...........................................................................\n/Users/Simran/anaconda3/lib/python3.6/site-packages/sklearn/utils/multiclass.py in check_classification_targets(y=array([  438.04839012,   572.83251015,  1785.889...70472021,\n        3050.        ,  1206.31787432]))\n    167     y : array-like\n    168     \"\"\"\n    169     y_type = type_of_target(y)\n    170     if y_type not in ['binary', 'multiclass', 'multiclass-multioutput',\n    171                       'multilabel-indicator', 'multilabel-sequences']:\n--> 172         raise ValueError(\"Unknown label type: %r\" % y_type)\n        y_type = 'continuous'\n    173 \n    174 \n    175 def type_of_target(y):\n    176     \"\"\"Determine the type of data indicated by the target.\n\nValueError: Unknown label type: 'continuous'\n___________________________________________________________________________\n\"\"\"",
      "\nThe above exception was the direct cause of the following exception:\n",
      "\u001b[0;31mTransportableException\u001b[0m                    Traceback (most recent call last)",
      "\u001b[0;32m~/anaconda3/lib/python3.6/site-packages/sklearn/externals/joblib/parallel.py\u001b[0m in \u001b[0;36mretrieve\u001b[0;34m(self)\u001b[0m\n\u001b[1;32m    698\u001b[0m                 \u001b[0;32mif\u001b[0m \u001b[0mgetattr\u001b[0m\u001b[0;34m(\u001b[0m\u001b[0mself\u001b[0m\u001b[0;34m.\u001b[0m\u001b[0m_backend\u001b[0m\u001b[0;34m,\u001b[0m \u001b[0;34m'supports_timeout'\u001b[0m\u001b[0;34m,\u001b[0m \u001b[0;32mFalse\u001b[0m\u001b[0;34m)\u001b[0m\u001b[0;34m:\u001b[0m\u001b[0;34m\u001b[0m\u001b[0m\n\u001b[0;32m--> 699\u001b[0;31m                     \u001b[0mself\u001b[0m\u001b[0;34m.\u001b[0m\u001b[0m_output\u001b[0m\u001b[0;34m.\u001b[0m\u001b[0mextend\u001b[0m\u001b[0;34m(\u001b[0m\u001b[0mjob\u001b[0m\u001b[0;34m.\u001b[0m\u001b[0mget\u001b[0m\u001b[0;34m(\u001b[0m\u001b[0mtimeout\u001b[0m\u001b[0;34m=\u001b[0m\u001b[0mself\u001b[0m\u001b[0;34m.\u001b[0m\u001b[0mtimeout\u001b[0m\u001b[0;34m)\u001b[0m\u001b[0;34m)\u001b[0m\u001b[0;34m\u001b[0m\u001b[0m\n\u001b[0m\u001b[1;32m    700\u001b[0m                 \u001b[0;32melse\u001b[0m\u001b[0;34m:\u001b[0m\u001b[0;34m\u001b[0m\u001b[0m\n",
      "\u001b[0;32m~/anaconda3/lib/python3.6/multiprocessing/pool.py\u001b[0m in \u001b[0;36mget\u001b[0;34m(self, timeout)\u001b[0m\n\u001b[1;32m    643\u001b[0m         \u001b[0;32melse\u001b[0m\u001b[0;34m:\u001b[0m\u001b[0;34m\u001b[0m\u001b[0m\n\u001b[0;32m--> 644\u001b[0;31m             \u001b[0;32mraise\u001b[0m \u001b[0mself\u001b[0m\u001b[0;34m.\u001b[0m\u001b[0m_value\u001b[0m\u001b[0;34m\u001b[0m\u001b[0m\n\u001b[0m\u001b[1;32m    645\u001b[0m \u001b[0;34m\u001b[0m\u001b[0m\n",
      "\u001b[0;31mTransportableException\u001b[0m: TransportableException\n___________________________________________________________________________\nValueError                                         Tue Nov  7 00:07:16 2017\nPID: 50420                 Python 3.6.3: /Users/Simran/anaconda3/bin/python\n...........................................................................\n/Users/Simran/anaconda3/lib/python3.6/site-packages/sklearn/externals/joblib/parallel.py in __call__(self=<sklearn.externals.joblib.parallel.BatchedCalls object>)\n    126     def __init__(self, iterator_slice):\n    127         self.items = list(iterator_slice)\n    128         self._size = len(self.items)\n    129 \n    130     def __call__(self):\n--> 131         return [func(*args, **kwargs) for func, args, kwargs in self.items]\n        self.items = [(<function _fit_and_score>, (GradientBoostingClassifier(criterion='friedman_m...e=0.8, verbose=0,\n              warm_start=False),        latitude   longitude\n3220  37.764646 -122...6  37.744407 -122.428259\n\n[6964 rows x 2 columns],       weekly_price\n3220   1273.709934\n6772   151...00000\n7336   1206.317874\n\n[6964 rows x 1 columns], make_scorer(roc_auc_score, needs_threshold=True), array([1393, 1394, 1395, ..., 6961, 6962, 6963]), array([   0,    1,    2, ..., 1390, 1391, 1392]), 0, {'max_depth': 5, 'min_samples_split': 200}, {}), {'error_score': 'raise', 'return_parameters': True})]\n    132 \n    133     def __len__(self):\n    134         return self._size\n    135 \n\n...........................................................................\n/Users/Simran/anaconda3/lib/python3.6/site-packages/sklearn/externals/joblib/parallel.py in <listcomp>(.0=<list_iterator object>)\n    126     def __init__(self, iterator_slice):\n    127         self.items = list(iterator_slice)\n    128         self._size = len(self.items)\n    129 \n    130     def __call__(self):\n--> 131         return [func(*args, **kwargs) for func, args, kwargs in self.items]\n        func = <function _fit_and_score>\n        args = (GradientBoostingClassifier(criterion='friedman_m...e=0.8, verbose=0,\n              warm_start=False),        latitude   longitude\n3220  37.764646 -122...6  37.744407 -122.428259\n\n[6964 rows x 2 columns],       weekly_price\n3220   1273.709934\n6772   151...00000\n7336   1206.317874\n\n[6964 rows x 1 columns], make_scorer(roc_auc_score, needs_threshold=True), array([1393, 1394, 1395, ..., 6961, 6962, 6963]), array([   0,    1,    2, ..., 1390, 1391, 1392]), 0, {'max_depth': 5, 'min_samples_split': 200}, {})\n        kwargs = {'error_score': 'raise', 'return_parameters': True}\n    132 \n    133     def __len__(self):\n    134         return self._size\n    135 \n\n...........................................................................\n/Users/Simran/anaconda3/lib/python3.6/site-packages/sklearn/cross_validation.py in _fit_and_score(estimator=GradientBoostingClassifier(criterion='friedman_m...e=0.8, verbose=0,\n              warm_start=False), X=       latitude   longitude\n3220  37.764646 -122...6  37.744407 -122.428259\n\n[6964 rows x 2 columns], y=      weekly_price\n3220   1273.709934\n6772   151...00000\n7336   1206.317874\n\n[6964 rows x 1 columns], scorer=make_scorer(roc_auc_score, needs_threshold=True), train=array([1393, 1394, 1395, ..., 6961, 6962, 6963]), test=array([   0,    1,    2, ..., 1390, 1391, 1392]), verbose=0, parameters={'max_depth': 5, 'min_samples_split': 200}, fit_params={}, return_train_score=False, return_parameters=True, error_score='raise')\n   1670 \n   1671     try:\n   1672         if y_train is None:\n   1673             estimator.fit(X_train, **fit_params)\n   1674         else:\n-> 1675             estimator.fit(X_train, y_train, **fit_params)\n        estimator.fit = <bound method BaseGradientBoosting.fit of Gradie...=0.8, verbose=0,\n              warm_start=False)>\n        X_train =        latitude   longitude\n7932  37.728916 -122...6  37.744407 -122.428259\n\n[5571 rows x 2 columns]\n        y_train =       weekly_price\n7932    438.048390\n2183    57...00000\n7336   1206.317874\n\n[5571 rows x 1 columns]\n        fit_params = {}\n   1676 \n   1677     except Exception as e:\n   1678         if error_score == 'raise':\n   1679             raise\n\n...........................................................................\n/Users/Simran/anaconda3/lib/python3.6/site-packages/sklearn/ensemble/gradient_boosting.py in fit(self=GradientBoostingClassifier(criterion='friedman_m...e=0.8, verbose=0,\n              warm_start=False), X=array([[  37.72891617, -122.40377045],\n       [ ...  [  37.74440765, -122.4282608 ]], dtype=float32), y=array([  438.04839012,   572.83251015,  1785.889...70472021,\n        3050.        ,  1206.31787432]), sample_weight=array([ 1.,  1.,  1., ...,  1.,  1.,  1.], dtype=float32), monitor=None)\n    983         else:\n    984             sample_weight = column_or_1d(sample_weight, warn=True)\n    985 \n    986         check_consistent_length(X, y, sample_weight)\n    987 \n--> 988         y = self._validate_y(y)\n        y = array([  438.04839012,   572.83251015,  1785.889...70472021,\n        3050.        ,  1206.31787432])\n        self._validate_y = <bound method GradientBoostingClassifier._valida...=0.8, verbose=0,\n              warm_start=False)>\n    989 \n    990         random_state = check_random_state(self.random_state)\n    991         self._check_params()\n    992 \n\n...........................................................................\n/Users/Simran/anaconda3/lib/python3.6/site-packages/sklearn/ensemble/gradient_boosting.py in _validate_y(self=GradientBoostingClassifier(criterion='friedman_m...e=0.8, verbose=0,\n              warm_start=False), y=array([  438.04839012,   572.83251015,  1785.889...70472021,\n        3050.        ,  1206.31787432]))\n   1458             min_impurity_split=min_impurity_split,\n   1459             warm_start=warm_start,\n   1460             presort=presort)\n   1461 \n   1462     def _validate_y(self, y):\n-> 1463         check_classification_targets(y)\n        y = array([  438.04839012,   572.83251015,  1785.889...70472021,\n        3050.        ,  1206.31787432])\n   1464         self.classes_, y = np.unique(y, return_inverse=True)\n   1465         self.n_classes_ = len(self.classes_)\n   1466         return y\n   1467 \n\n...........................................................................\n/Users/Simran/anaconda3/lib/python3.6/site-packages/sklearn/utils/multiclass.py in check_classification_targets(y=array([  438.04839012,   572.83251015,  1785.889...70472021,\n        3050.        ,  1206.31787432]))\n    167     y : array-like\n    168     \"\"\"\n    169     y_type = type_of_target(y)\n    170     if y_type not in ['binary', 'multiclass', 'multiclass-multioutput',\n    171                       'multilabel-indicator', 'multilabel-sequences']:\n--> 172         raise ValueError(\"Unknown label type: %r\" % y_type)\n        y_type = 'continuous'\n    173 \n    174 \n    175 def type_of_target(y):\n    176     \"\"\"Determine the type of data indicated by the target.\n\nValueError: Unknown label type: 'continuous'\n___________________________________________________________________________",
      "\nDuring handling of the above exception, another exception occurred:\n",
      "\u001b[0;31mJoblibValueError\u001b[0m                          Traceback (most recent call last)",
      "\u001b[0;32m<ipython-input-561-496ea7e886e7>\u001b[0m in \u001b[0;36m<module>\u001b[0;34m()\u001b[0m\n\u001b[1;32m      3\u001b[0m grid_search = GridSearchCV(estimator = GradientBoostingClassifier(learning_rate=0.1, n_estimators=60, max_features='sqrt', subsample=0.8, random_state=10), \n\u001b[1;32m      4\u001b[0m param_grid = param_test, scoring='roc_auc',n_jobs=4,iid=False, cv=5);\n\u001b[0;32m----> 5\u001b[0;31m \u001b[0mgrid_search\u001b[0m\u001b[0;34m.\u001b[0m\u001b[0mfit\u001b[0m\u001b[0;34m(\u001b[0m\u001b[0mx_train\u001b[0m\u001b[0;34m,\u001b[0m\u001b[0my_train\u001b[0m\u001b[0;34m)\u001b[0m\u001b[0;34m;\u001b[0m\u001b[0;34m\u001b[0m\u001b[0m\n\u001b[0m",
      "\u001b[0;32m~/anaconda3/lib/python3.6/site-packages/sklearn/grid_search.py\u001b[0m in \u001b[0;36mfit\u001b[0;34m(self, X, y)\u001b[0m\n\u001b[1;32m    836\u001b[0m \u001b[0;34m\u001b[0m\u001b[0m\n\u001b[1;32m    837\u001b[0m         \"\"\"\n\u001b[0;32m--> 838\u001b[0;31m         \u001b[0;32mreturn\u001b[0m \u001b[0mself\u001b[0m\u001b[0;34m.\u001b[0m\u001b[0m_fit\u001b[0m\u001b[0;34m(\u001b[0m\u001b[0mX\u001b[0m\u001b[0;34m,\u001b[0m \u001b[0my\u001b[0m\u001b[0;34m,\u001b[0m \u001b[0mParameterGrid\u001b[0m\u001b[0;34m(\u001b[0m\u001b[0mself\u001b[0m\u001b[0;34m.\u001b[0m\u001b[0mparam_grid\u001b[0m\u001b[0;34m)\u001b[0m\u001b[0;34m)\u001b[0m\u001b[0;34m\u001b[0m\u001b[0m\n\u001b[0m\u001b[1;32m    839\u001b[0m \u001b[0;34m\u001b[0m\u001b[0m\n\u001b[1;32m    840\u001b[0m \u001b[0;34m\u001b[0m\u001b[0m\n",
      "\u001b[0;32m~/anaconda3/lib/python3.6/site-packages/sklearn/grid_search.py\u001b[0m in \u001b[0;36m_fit\u001b[0;34m(self, X, y, parameter_iterable)\u001b[0m\n\u001b[1;32m    572\u001b[0m                                     \u001b[0mself\u001b[0m\u001b[0;34m.\u001b[0m\u001b[0mfit_params\u001b[0m\u001b[0;34m,\u001b[0m \u001b[0mreturn_parameters\u001b[0m\u001b[0;34m=\u001b[0m\u001b[0;32mTrue\u001b[0m\u001b[0;34m,\u001b[0m\u001b[0;34m\u001b[0m\u001b[0m\n\u001b[1;32m    573\u001b[0m                                     error_score=self.error_score)\n\u001b[0;32m--> 574\u001b[0;31m                 \u001b[0;32mfor\u001b[0m \u001b[0mparameters\u001b[0m \u001b[0;32min\u001b[0m \u001b[0mparameter_iterable\u001b[0m\u001b[0;34m\u001b[0m\u001b[0m\n\u001b[0m\u001b[1;32m    575\u001b[0m                 for train, test in cv)\n\u001b[1;32m    576\u001b[0m \u001b[0;34m\u001b[0m\u001b[0m\n",
      "\u001b[0;32m~/anaconda3/lib/python3.6/site-packages/sklearn/externals/joblib/parallel.py\u001b[0m in \u001b[0;36m__call__\u001b[0;34m(self, iterable)\u001b[0m\n\u001b[1;32m    787\u001b[0m                 \u001b[0;31m# consumption.\u001b[0m\u001b[0;34m\u001b[0m\u001b[0;34m\u001b[0m\u001b[0m\n\u001b[1;32m    788\u001b[0m                 \u001b[0mself\u001b[0m\u001b[0;34m.\u001b[0m\u001b[0m_iterating\u001b[0m \u001b[0;34m=\u001b[0m \u001b[0;32mFalse\u001b[0m\u001b[0;34m\u001b[0m\u001b[0m\n\u001b[0;32m--> 789\u001b[0;31m             \u001b[0mself\u001b[0m\u001b[0;34m.\u001b[0m\u001b[0mretrieve\u001b[0m\u001b[0;34m(\u001b[0m\u001b[0;34m)\u001b[0m\u001b[0;34m\u001b[0m\u001b[0m\n\u001b[0m\u001b[1;32m    790\u001b[0m             \u001b[0;31m# Make sure that we get a last message telling us we are done\u001b[0m\u001b[0;34m\u001b[0m\u001b[0;34m\u001b[0m\u001b[0m\n\u001b[1;32m    791\u001b[0m             \u001b[0melapsed_time\u001b[0m \u001b[0;34m=\u001b[0m \u001b[0mtime\u001b[0m\u001b[0;34m.\u001b[0m\u001b[0mtime\u001b[0m\u001b[0;34m(\u001b[0m\u001b[0;34m)\u001b[0m \u001b[0;34m-\u001b[0m \u001b[0mself\u001b[0m\u001b[0;34m.\u001b[0m\u001b[0m_start_time\u001b[0m\u001b[0;34m\u001b[0m\u001b[0m\n",
      "\u001b[0;32m~/anaconda3/lib/python3.6/site-packages/sklearn/externals/joblib/parallel.py\u001b[0m in \u001b[0;36mretrieve\u001b[0;34m(self)\u001b[0m\n\u001b[1;32m    738\u001b[0m                     \u001b[0mexception\u001b[0m \u001b[0;34m=\u001b[0m \u001b[0mexception_type\u001b[0m\u001b[0;34m(\u001b[0m\u001b[0mreport\u001b[0m\u001b[0;34m)\u001b[0m\u001b[0;34m\u001b[0m\u001b[0m\n\u001b[1;32m    739\u001b[0m \u001b[0;34m\u001b[0m\u001b[0m\n\u001b[0;32m--> 740\u001b[0;31m                     \u001b[0;32mraise\u001b[0m \u001b[0mexception\u001b[0m\u001b[0;34m\u001b[0m\u001b[0m\n\u001b[0m\u001b[1;32m    741\u001b[0m \u001b[0;34m\u001b[0m\u001b[0m\n\u001b[1;32m    742\u001b[0m     \u001b[0;32mdef\u001b[0m \u001b[0m__call__\u001b[0m\u001b[0;34m(\u001b[0m\u001b[0mself\u001b[0m\u001b[0;34m,\u001b[0m \u001b[0miterable\u001b[0m\u001b[0;34m)\u001b[0m\u001b[0;34m:\u001b[0m\u001b[0;34m\u001b[0m\u001b[0m\n",
      "\u001b[0;31mJoblibValueError\u001b[0m: JoblibValueError\n___________________________________________________________________________\nMultiprocessing exception:\n...........................................................................\n/Users/Simran/anaconda3/lib/python3.6/runpy.py in _run_module_as_main(mod_name='ipykernel.__main__', alter_argv=1)\n    188         sys.exit(msg)\n    189     main_globals = sys.modules[\"__main__\"].__dict__\n    190     if alter_argv:\n    191         sys.argv[0] = mod_spec.origin\n    192     return _run_code(code, main_globals, None,\n--> 193                      \"__main__\", mod_spec)\n        mod_spec = ModuleSpec(name='ipykernel.__main__', loader=<_f...b/python3.6/site-packages/ipykernel/__main__.py')\n    194 \n    195 def run_module(mod_name, init_globals=None,\n    196                run_name=None, alter_sys=False):\n    197     \"\"\"Execute a module's code without importing it\n\n...........................................................................\n/Users/Simran/anaconda3/lib/python3.6/runpy.py in _run_code(code=<code object <module> at 0x1069bb150, file \"/Use...3.6/site-packages/ipykernel/__main__.py\", line 1>, run_globals={'__annotations__': {}, '__builtins__': <module 'builtins' (built-in)>, '__cached__': '/Users/Simran/anaconda3/lib/python3.6/site-packages/ipykernel/__pycache__/__main__.cpython-36.pyc', '__doc__': None, '__file__': '/Users/Simran/anaconda3/lib/python3.6/site-packages/ipykernel/__main__.py', '__loader__': <_frozen_importlib_external.SourceFileLoader object>, '__name__': '__main__', '__package__': 'ipykernel', '__spec__': ModuleSpec(name='ipykernel.__main__', loader=<_f...b/python3.6/site-packages/ipykernel/__main__.py'), 'app': <module 'ipykernel.kernelapp' from '/Users/Simra.../python3.6/site-packages/ipykernel/kernelapp.py'>}, init_globals=None, mod_name='__main__', mod_spec=ModuleSpec(name='ipykernel.__main__', loader=<_f...b/python3.6/site-packages/ipykernel/__main__.py'), pkg_name='ipykernel', script_name=None)\n     80                        __cached__ = cached,\n     81                        __doc__ = None,\n     82                        __loader__ = loader,\n     83                        __package__ = pkg_name,\n     84                        __spec__ = mod_spec)\n---> 85     exec(code, run_globals)\n        code = <code object <module> at 0x1069bb150, file \"/Use...3.6/site-packages/ipykernel/__main__.py\", line 1>\n        run_globals = {'__annotations__': {}, '__builtins__': <module 'builtins' (built-in)>, '__cached__': '/Users/Simran/anaconda3/lib/python3.6/site-packages/ipykernel/__pycache__/__main__.cpython-36.pyc', '__doc__': None, '__file__': '/Users/Simran/anaconda3/lib/python3.6/site-packages/ipykernel/__main__.py', '__loader__': <_frozen_importlib_external.SourceFileLoader object>, '__name__': '__main__', '__package__': 'ipykernel', '__spec__': ModuleSpec(name='ipykernel.__main__', loader=<_f...b/python3.6/site-packages/ipykernel/__main__.py'), 'app': <module 'ipykernel.kernelapp' from '/Users/Simra.../python3.6/site-packages/ipykernel/kernelapp.py'>}\n     86     return run_globals\n     87 \n     88 def _run_module_code(code, init_globals=None,\n     89                     mod_name=None, mod_spec=None,\n\n...........................................................................\n/Users/Simran/anaconda3/lib/python3.6/site-packages/ipykernel/__main__.py in <module>()\n      1 if __name__ == '__main__':\n      2     from ipykernel import kernelapp as app\n----> 3     app.launch_new_instance()\n\n...........................................................................\n/Users/Simran/anaconda3/lib/python3.6/site-packages/traitlets/config/application.py in launch_instance(cls=<class 'ipykernel.kernelapp.IPKernelApp'>, argv=None, **kwargs={})\n    653 \n    654         If a global instance already exists, this reinitializes and starts it\n    655         \"\"\"\n    656         app = cls.instance(**kwargs)\n    657         app.initialize(argv)\n--> 658         app.start()\n        app.start = <bound method IPKernelApp.start of <ipykernel.kernelapp.IPKernelApp object>>\n    659 \n    660 #-----------------------------------------------------------------------------\n    661 # utility functions, for convenience\n    662 #-----------------------------------------------------------------------------\n\n...........................................................................\n/Users/Simran/anaconda3/lib/python3.6/site-packages/ipykernel/kernelapp.py in start(self=<ipykernel.kernelapp.IPKernelApp object>)\n    472             return self.subapp.start()\n    473         if self.poller is not None:\n    474             self.poller.start()\n    475         self.kernel.start()\n    476         try:\n--> 477             ioloop.IOLoop.instance().start()\n    478         except KeyboardInterrupt:\n    479             pass\n    480 \n    481 launch_new_instance = IPKernelApp.launch_instance\n\n...........................................................................\n/Users/Simran/anaconda3/lib/python3.6/site-packages/zmq/eventloop/ioloop.py in start(self=<zmq.eventloop.ioloop.ZMQIOLoop object>)\n    172             )\n    173         return loop\n    174     \n    175     def start(self):\n    176         try:\n--> 177             super(ZMQIOLoop, self).start()\n        self.start = <bound method ZMQIOLoop.start of <zmq.eventloop.ioloop.ZMQIOLoop object>>\n    178         except ZMQError as e:\n    179             if e.errno == ETERM:\n    180                 # quietly return on ETERM\n    181                 pass\n\n...........................................................................\n/Users/Simran/anaconda3/lib/python3.6/site-packages/tornado/ioloop.py in start(self=<zmq.eventloop.ioloop.ZMQIOLoop object>)\n    883                 self._events.update(event_pairs)\n    884                 while self._events:\n    885                     fd, events = self._events.popitem()\n    886                     try:\n    887                         fd_obj, handler_func = self._handlers[fd]\n--> 888                         handler_func(fd_obj, events)\n        handler_func = <function wrap.<locals>.null_wrapper>\n        fd_obj = <zmq.sugar.socket.Socket object>\n        events = 1\n    889                     except (OSError, IOError) as e:\n    890                         if errno_from_exception(e) == errno.EPIPE:\n    891                             # Happens when the client closes the connection\n    892                             pass\n\n...........................................................................\n/Users/Simran/anaconda3/lib/python3.6/site-packages/tornado/stack_context.py in null_wrapper(*args=(<zmq.sugar.socket.Socket object>, 1), **kwargs={})\n    272         # Fast path when there are no active contexts.\n    273         def null_wrapper(*args, **kwargs):\n    274             try:\n    275                 current_state = _state.contexts\n    276                 _state.contexts = cap_contexts[0]\n--> 277                 return fn(*args, **kwargs)\n        args = (<zmq.sugar.socket.Socket object>, 1)\n        kwargs = {}\n    278             finally:\n    279                 _state.contexts = current_state\n    280         null_wrapper._wrapped = True\n    281         return null_wrapper\n\n...........................................................................\n/Users/Simran/anaconda3/lib/python3.6/site-packages/zmq/eventloop/zmqstream.py in _handle_events(self=<zmq.eventloop.zmqstream.ZMQStream object>, fd=<zmq.sugar.socket.Socket object>, events=1)\n    435             # dispatch events:\n    436             if events & IOLoop.ERROR:\n    437                 gen_log.error(\"got POLLERR event on ZMQStream, which doesn't make sense\")\n    438                 return\n    439             if events & IOLoop.READ:\n--> 440                 self._handle_recv()\n        self._handle_recv = <bound method ZMQStream._handle_recv of <zmq.eventloop.zmqstream.ZMQStream object>>\n    441                 if not self.socket:\n    442                     return\n    443             if events & IOLoop.WRITE:\n    444                 self._handle_send()\n\n...........................................................................\n/Users/Simran/anaconda3/lib/python3.6/site-packages/zmq/eventloop/zmqstream.py in _handle_recv(self=<zmq.eventloop.zmqstream.ZMQStream object>)\n    467                 gen_log.error(\"RECV Error: %s\"%zmq.strerror(e.errno))\n    468         else:\n    469             if self._recv_callback:\n    470                 callback = self._recv_callback\n    471                 # self._recv_callback = None\n--> 472                 self._run_callback(callback, msg)\n        self._run_callback = <bound method ZMQStream._run_callback of <zmq.eventloop.zmqstream.ZMQStream object>>\n        callback = <function wrap.<locals>.null_wrapper>\n        msg = [<zmq.sugar.frame.Frame object>, <zmq.sugar.frame.Frame object>, <zmq.sugar.frame.Frame object>, <zmq.sugar.frame.Frame object>, <zmq.sugar.frame.Frame object>, <zmq.sugar.frame.Frame object>, <zmq.sugar.frame.Frame object>]\n    473                 \n    474         # self.update_state()\n    475         \n    476 \n\n...........................................................................\n/Users/Simran/anaconda3/lib/python3.6/site-packages/zmq/eventloop/zmqstream.py in _run_callback(self=<zmq.eventloop.zmqstream.ZMQStream object>, callback=<function wrap.<locals>.null_wrapper>, *args=([<zmq.sugar.frame.Frame object>, <zmq.sugar.frame.Frame object>, <zmq.sugar.frame.Frame object>, <zmq.sugar.frame.Frame object>, <zmq.sugar.frame.Frame object>, <zmq.sugar.frame.Frame object>, <zmq.sugar.frame.Frame object>],), **kwargs={})\n    409         close our socket.\"\"\"\n    410         try:\n    411             # Use a NullContext to ensure that all StackContexts are run\n    412             # inside our blanket exception handler rather than outside.\n    413             with stack_context.NullContext():\n--> 414                 callback(*args, **kwargs)\n        callback = <function wrap.<locals>.null_wrapper>\n        args = ([<zmq.sugar.frame.Frame object>, <zmq.sugar.frame.Frame object>, <zmq.sugar.frame.Frame object>, <zmq.sugar.frame.Frame object>, <zmq.sugar.frame.Frame object>, <zmq.sugar.frame.Frame object>, <zmq.sugar.frame.Frame object>],)\n        kwargs = {}\n    415         except:\n    416             gen_log.error(\"Uncaught exception, closing connection.\",\n    417                           exc_info=True)\n    418             # Close the socket on an uncaught exception from a user callback\n\n...........................................................................\n/Users/Simran/anaconda3/lib/python3.6/site-packages/tornado/stack_context.py in null_wrapper(*args=([<zmq.sugar.frame.Frame object>, <zmq.sugar.frame.Frame object>, <zmq.sugar.frame.Frame object>, <zmq.sugar.frame.Frame object>, <zmq.sugar.frame.Frame object>, <zmq.sugar.frame.Frame object>, <zmq.sugar.frame.Frame object>],), **kwargs={})\n    272         # Fast path when there are no active contexts.\n    273         def null_wrapper(*args, **kwargs):\n    274             try:\n    275                 current_state = _state.contexts\n    276                 _state.contexts = cap_contexts[0]\n--> 277                 return fn(*args, **kwargs)\n        args = ([<zmq.sugar.frame.Frame object>, <zmq.sugar.frame.Frame object>, <zmq.sugar.frame.Frame object>, <zmq.sugar.frame.Frame object>, <zmq.sugar.frame.Frame object>, <zmq.sugar.frame.Frame object>, <zmq.sugar.frame.Frame object>],)\n        kwargs = {}\n    278             finally:\n    279                 _state.contexts = current_state\n    280         null_wrapper._wrapped = True\n    281         return null_wrapper\n\n...........................................................................\n/Users/Simran/anaconda3/lib/python3.6/site-packages/ipykernel/kernelbase.py in dispatcher(msg=[<zmq.sugar.frame.Frame object>, <zmq.sugar.frame.Frame object>, <zmq.sugar.frame.Frame object>, <zmq.sugar.frame.Frame object>, <zmq.sugar.frame.Frame object>, <zmq.sugar.frame.Frame object>, <zmq.sugar.frame.Frame object>])\n    278         if self.control_stream:\n    279             self.control_stream.on_recv(self.dispatch_control, copy=False)\n    280 \n    281         def make_dispatcher(stream):\n    282             def dispatcher(msg):\n--> 283                 return self.dispatch_shell(stream, msg)\n        msg = [<zmq.sugar.frame.Frame object>, <zmq.sugar.frame.Frame object>, <zmq.sugar.frame.Frame object>, <zmq.sugar.frame.Frame object>, <zmq.sugar.frame.Frame object>, <zmq.sugar.frame.Frame object>, <zmq.sugar.frame.Frame object>]\n    284             return dispatcher\n    285 \n    286         for s in self.shell_streams:\n    287             s.on_recv(make_dispatcher(s), copy=False)\n\n...........................................................................\n/Users/Simran/anaconda3/lib/python3.6/site-packages/ipykernel/kernelbase.py in dispatch_shell(self=<ipykernel.ipkernel.IPythonKernel object>, stream=<zmq.eventloop.zmqstream.ZMQStream object>, msg={'buffers': [], 'content': {'allow_stdin': True, 'code': 'from sklearn.grid_search import GridSearchCV\\npar...=False, cv=5);\\ngrid_search.fit(x_train,y_train);\\n', 'silent': False, 'stop_on_error': True, 'store_history': True, 'user_expressions': {}}, 'header': {'date': datetime.datetime(2017, 11, 7, 5, 7, 16, 668065, tzinfo=tzutc()), 'msg_id': '8E474C1DC8F940C6B939E07CBF317FC1', 'msg_type': 'execute_request', 'session': 'BF9F7FB9822741A6973EBC54E4FAE653', 'username': 'username', 'version': '5.0'}, 'metadata': {}, 'msg_id': '8E474C1DC8F940C6B939E07CBF317FC1', 'msg_type': 'execute_request', 'parent_header': {}})\n    230             self.log.warn(\"Unknown message type: %r\", msg_type)\n    231         else:\n    232             self.log.debug(\"%s: %s\", msg_type, msg)\n    233             self.pre_handler_hook()\n    234             try:\n--> 235                 handler(stream, idents, msg)\n        handler = <bound method Kernel.execute_request of <ipykernel.ipkernel.IPythonKernel object>>\n        stream = <zmq.eventloop.zmqstream.ZMQStream object>\n        idents = [b'BF9F7FB9822741A6973EBC54E4FAE653']\n        msg = {'buffers': [], 'content': {'allow_stdin': True, 'code': 'from sklearn.grid_search import GridSearchCV\\npar...=False, cv=5);\\ngrid_search.fit(x_train,y_train);\\n', 'silent': False, 'stop_on_error': True, 'store_history': True, 'user_expressions': {}}, 'header': {'date': datetime.datetime(2017, 11, 7, 5, 7, 16, 668065, tzinfo=tzutc()), 'msg_id': '8E474C1DC8F940C6B939E07CBF317FC1', 'msg_type': 'execute_request', 'session': 'BF9F7FB9822741A6973EBC54E4FAE653', 'username': 'username', 'version': '5.0'}, 'metadata': {}, 'msg_id': '8E474C1DC8F940C6B939E07CBF317FC1', 'msg_type': 'execute_request', 'parent_header': {}}\n    236             except Exception:\n    237                 self.log.error(\"Exception in message handler:\", exc_info=True)\n    238             finally:\n    239                 self.post_handler_hook()\n\n...........................................................................\n/Users/Simran/anaconda3/lib/python3.6/site-packages/ipykernel/kernelbase.py in execute_request(self=<ipykernel.ipkernel.IPythonKernel object>, stream=<zmq.eventloop.zmqstream.ZMQStream object>, ident=[b'BF9F7FB9822741A6973EBC54E4FAE653'], parent={'buffers': [], 'content': {'allow_stdin': True, 'code': 'from sklearn.grid_search import GridSearchCV\\npar...=False, cv=5);\\ngrid_search.fit(x_train,y_train);\\n', 'silent': False, 'stop_on_error': True, 'store_history': True, 'user_expressions': {}}, 'header': {'date': datetime.datetime(2017, 11, 7, 5, 7, 16, 668065, tzinfo=tzutc()), 'msg_id': '8E474C1DC8F940C6B939E07CBF317FC1', 'msg_type': 'execute_request', 'session': 'BF9F7FB9822741A6973EBC54E4FAE653', 'username': 'username', 'version': '5.0'}, 'metadata': {}, 'msg_id': '8E474C1DC8F940C6B939E07CBF317FC1', 'msg_type': 'execute_request', 'parent_header': {}})\n    394         if not silent:\n    395             self.execution_count += 1\n    396             self._publish_execute_input(code, parent, self.execution_count)\n    397 \n    398         reply_content = self.do_execute(code, silent, store_history,\n--> 399                                         user_expressions, allow_stdin)\n        user_expressions = {}\n        allow_stdin = True\n    400 \n    401         # Flush output before sending the reply.\n    402         sys.stdout.flush()\n    403         sys.stderr.flush()\n\n...........................................................................\n/Users/Simran/anaconda3/lib/python3.6/site-packages/ipykernel/ipkernel.py in do_execute(self=<ipykernel.ipkernel.IPythonKernel object>, code='from sklearn.grid_search import GridSearchCV\\npar...=False, cv=5);\\ngrid_search.fit(x_train,y_train);\\n', silent=False, store_history=True, user_expressions={}, allow_stdin=True)\n    191 \n    192         self._forward_input(allow_stdin)\n    193 \n    194         reply_content = {}\n    195         try:\n--> 196             res = shell.run_cell(code, store_history=store_history, silent=silent)\n        res = undefined\n        shell.run_cell = <bound method ZMQInteractiveShell.run_cell of <ipykernel.zmqshell.ZMQInteractiveShell object>>\n        code = 'from sklearn.grid_search import GridSearchCV\\npar...=False, cv=5);\\ngrid_search.fit(x_train,y_train);\\n'\n        store_history = True\n        silent = False\n    197         finally:\n    198             self._restore_input()\n    199 \n    200         if res.error_before_exec is not None:\n\n...........................................................................\n/Users/Simran/anaconda3/lib/python3.6/site-packages/ipykernel/zmqshell.py in run_cell(self=<ipykernel.zmqshell.ZMQInteractiveShell object>, *args=('from sklearn.grid_search import GridSearchCV\\npar...=False, cv=5);\\ngrid_search.fit(x_train,y_train);\\n',), **kwargs={'silent': False, 'store_history': True})\n    528             )\n    529         self.payload_manager.write_payload(payload)\n    530 \n    531     def run_cell(self, *args, **kwargs):\n    532         self._last_traceback = None\n--> 533         return super(ZMQInteractiveShell, self).run_cell(*args, **kwargs)\n        self.run_cell = <bound method ZMQInteractiveShell.run_cell of <ipykernel.zmqshell.ZMQInteractiveShell object>>\n        args = ('from sklearn.grid_search import GridSearchCV\\npar...=False, cv=5);\\ngrid_search.fit(x_train,y_train);\\n',)\n        kwargs = {'silent': False, 'store_history': True}\n    534 \n    535     def _showtraceback(self, etype, evalue, stb):\n    536         # try to preserve ordering of tracebacks and print statements\n    537         sys.stdout.flush()\n\n...........................................................................\n/Users/Simran/anaconda3/lib/python3.6/site-packages/IPython/core/interactiveshell.py in run_cell(self=<ipykernel.zmqshell.ZMQInteractiveShell object>, raw_cell='from sklearn.grid_search import GridSearchCV\\npar...=False, cv=5);\\ngrid_search.fit(x_train,y_train);\\n', store_history=True, silent=False, shell_futures=True)\n   2693                 self.displayhook.exec_result = result\n   2694 \n   2695                 # Execute the user code\n   2696                 interactivity = \"none\" if silent else self.ast_node_interactivity\n   2697                 has_raised = self.run_ast_nodes(code_ast.body, cell_name,\n-> 2698                    interactivity=interactivity, compiler=compiler, result=result)\n        interactivity = 'last_expr'\n        compiler = <IPython.core.compilerop.CachingCompiler object>\n   2699                 \n   2700                 self.last_execution_succeeded = not has_raised\n   2701 \n   2702                 # Reset this so later displayed values do not modify the\n\n...........................................................................\n/Users/Simran/anaconda3/lib/python3.6/site-packages/IPython/core/interactiveshell.py in run_ast_nodes(self=<ipykernel.zmqshell.ZMQInteractiveShell object>, nodelist=[<_ast.ImportFrom object>, <_ast.Assign object>, <_ast.Assign object>, <_ast.Expr object>], cell_name='<ipython-input-561-496ea7e886e7>', interactivity='last', compiler=<IPython.core.compilerop.CachingCompiler object>, result=<ExecutionResult object at 116252128, execution_..._before_exec=None error_in_exec=None result=None>)\n   2803                     return True\n   2804 \n   2805             for i, node in enumerate(to_run_interactive):\n   2806                 mod = ast.Interactive([node])\n   2807                 code = compiler(mod, cell_name, \"single\")\n-> 2808                 if self.run_code(code, result):\n        self.run_code = <bound method InteractiveShell.run_code of <ipykernel.zmqshell.ZMQInteractiveShell object>>\n        code = <code object <module> at 0x135e9e930, file \"<ipython-input-561-496ea7e886e7>\", line 5>\n        result = <ExecutionResult object at 116252128, execution_..._before_exec=None error_in_exec=None result=None>\n   2809                     return True\n   2810 \n   2811             # Flush softspace\n   2812             if softspace(sys.stdout, 0):\n\n...........................................................................\n/Users/Simran/anaconda3/lib/python3.6/site-packages/IPython/core/interactiveshell.py in run_code(self=<ipykernel.zmqshell.ZMQInteractiveShell object>, code_obj=<code object <module> at 0x135e9e930, file \"<ipython-input-561-496ea7e886e7>\", line 5>, result=<ExecutionResult object at 116252128, execution_..._before_exec=None error_in_exec=None result=None>)\n   2857         outflag = True  # happens in more places, so it's easier as default\n   2858         try:\n   2859             try:\n   2860                 self.hooks.pre_run_code_hook()\n   2861                 #rprint('Running code', repr(code_obj)) # dbg\n-> 2862                 exec(code_obj, self.user_global_ns, self.user_ns)\n        code_obj = <code object <module> at 0x135e9e930, file \"<ipython-input-561-496ea7e886e7>\", line 5>\n        self.user_global_ns = {'Axes3D': <class 'mpl_toolkits.mplot3d.axes3d.Axes3D'>, 'GBR': GradientBoostingRegressor(alpha=0.9, criterion='...le=1.0,\n             verbose=0, warm_start=False), 'GradientBoostingClassifier': <class 'sklearn.ensemble.gradient_boosting.GradientBoostingClassifier'>, 'GradientBoostingRegressor': <class 'sklearn.ensemble.gradient_boosting.GradientBoostingRegressor'>, 'GridSearchCV': <class 'sklearn.grid_search.GridSearchCV'>, 'In': ['', \"import numpy as np\\nimport pandas as pd\\nimport ma...toolkits\\nget_ipython().magic('matplotlib inline')\", \"import numpy as np\\nimport pandas as pd\\nimport ma...toolkits\\nget_ipython().magic('matplotlib inline')\", \"import numpy as np\\nimport pandas as pd\\nimport ma...toolkits\\nget_ipython().magic('matplotlib inline')\", \"import numpy as np\\nimport pandas as pd\\nimport ma...toolkits\\nget_ipython().magic('matplotlib inline')\", 'data = pd.read_csv(\"/data/listings.csv\")', 'data = pd.read_csv(\"/data/listings.csv\")', 'data = pd.read_csv(\"//data/listings.csv\")', 'data = pd.read_csv(\"./data/listings.csv\")', 'data.head()', 'list(data)', \"df1 = df[['latitue','longitutde']]\", \"data = data[['latitue','longitude']]\", \"data = data[['latitude','longitude']]\", \"data = data[['latitude','longitude', 'price', 'weekly_price']]\", \"data = data[['latitude','longitude', 'price', 'weekly_price']]\", 'data = pd.read_csv(\"./data/listings.csv\")', 'list(data)', \"data = data['latitude','longitude', 'price', 'weekly_price']\", \"data = data[['latitude','longitude', 'price', 'weekly_price']]\", ...], 'KNeighborsRegressor': <class 'sklearn.neighbors.regression.KNeighborsRegressor'>, 'LinearRegression': <class 'sklearn.linear_model.base.LinearRegression'>, 'Out': {9:          id                            listing_u...8  \n4                NaN  \n\n[5 rows x 95 columns], 10: ['id', 'listing_url', 'scrape_id', 'last_scraped', 'name', 'summary', 'space', 'description', 'experiences_offered', 'neighborhood_overview', 'notes', 'transit', 'access', 'interaction', 'house_rules', 'thumbnail_url', 'medium_url', 'picture_url', 'xl_picture_url', 'host_id', ...], 17: ['id', 'listing_url', 'scrape_id', 'last_scraped', 'name', 'summary', 'space', 'description', 'experiences_offered', 'neighborhood_overview', 'notes', 'transit', 'access', 'interaction', 'house_rules', 'thumbnail_url', 'medium_url', 'picture_url', 'xl_picture_url', 'host_id', ...], 20:     latitude   longitude    price weekly_price\n0...aN\n4  37.760051 -122.421352  $200.00          NaN, 23:        latitude   longitude      price weekly_pr...    $100.00          NaN\n\n[8706 rows x 4 columns], 24:        latitude   longitude      price weekly_pr...    $100.00          NaN\n\n[8706 rows x 4 columns], 25:        latitude   longitude      price weekly_pr...    $100.00          NaN\n\n[8706 rows x 4 columns], 26:        latitude   longitude      price weekly_pr...    $100.00          NaN\n\n[8706 rows x 4 columns], 28:     latitude   longitude    price weekly_price\n0...aN\n4  37.760051 -122.421352  $200.00          NaN, 30:     latitude   longitude    price weekly_price\n0...aN\n4  37.760051 -122.421352  $200.00          NaN, ...}, 'RFR': RandomForestRegressor(bootstrap=True, criterion=...lse, random_state=3, verbose=0, warm_start=False), ...}\n        self.user_ns = {'Axes3D': <class 'mpl_toolkits.mplot3d.axes3d.Axes3D'>, 'GBR': GradientBoostingRegressor(alpha=0.9, criterion='...le=1.0,\n             verbose=0, warm_start=False), 'GradientBoostingClassifier': <class 'sklearn.ensemble.gradient_boosting.GradientBoostingClassifier'>, 'GradientBoostingRegressor': <class 'sklearn.ensemble.gradient_boosting.GradientBoostingRegressor'>, 'GridSearchCV': <class 'sklearn.grid_search.GridSearchCV'>, 'In': ['', \"import numpy as np\\nimport pandas as pd\\nimport ma...toolkits\\nget_ipython().magic('matplotlib inline')\", \"import numpy as np\\nimport pandas as pd\\nimport ma...toolkits\\nget_ipython().magic('matplotlib inline')\", \"import numpy as np\\nimport pandas as pd\\nimport ma...toolkits\\nget_ipython().magic('matplotlib inline')\", \"import numpy as np\\nimport pandas as pd\\nimport ma...toolkits\\nget_ipython().magic('matplotlib inline')\", 'data = pd.read_csv(\"/data/listings.csv\")', 'data = pd.read_csv(\"/data/listings.csv\")', 'data = pd.read_csv(\"//data/listings.csv\")', 'data = pd.read_csv(\"./data/listings.csv\")', 'data.head()', 'list(data)', \"df1 = df[['latitue','longitutde']]\", \"data = data[['latitue','longitude']]\", \"data = data[['latitude','longitude']]\", \"data = data[['latitude','longitude', 'price', 'weekly_price']]\", \"data = data[['latitude','longitude', 'price', 'weekly_price']]\", 'data = pd.read_csv(\"./data/listings.csv\")', 'list(data)', \"data = data['latitude','longitude', 'price', 'weekly_price']\", \"data = data[['latitude','longitude', 'price', 'weekly_price']]\", ...], 'KNeighborsRegressor': <class 'sklearn.neighbors.regression.KNeighborsRegressor'>, 'LinearRegression': <class 'sklearn.linear_model.base.LinearRegression'>, 'Out': {9:          id                            listing_u...8  \n4                NaN  \n\n[5 rows x 95 columns], 10: ['id', 'listing_url', 'scrape_id', 'last_scraped', 'name', 'summary', 'space', 'description', 'experiences_offered', 'neighborhood_overview', 'notes', 'transit', 'access', 'interaction', 'house_rules', 'thumbnail_url', 'medium_url', 'picture_url', 'xl_picture_url', 'host_id', ...], 17: ['id', 'listing_url', 'scrape_id', 'last_scraped', 'name', 'summary', 'space', 'description', 'experiences_offered', 'neighborhood_overview', 'notes', 'transit', 'access', 'interaction', 'house_rules', 'thumbnail_url', 'medium_url', 'picture_url', 'xl_picture_url', 'host_id', ...], 20:     latitude   longitude    price weekly_price\n0...aN\n4  37.760051 -122.421352  $200.00          NaN, 23:        latitude   longitude      price weekly_pr...    $100.00          NaN\n\n[8706 rows x 4 columns], 24:        latitude   longitude      price weekly_pr...    $100.00          NaN\n\n[8706 rows x 4 columns], 25:        latitude   longitude      price weekly_pr...    $100.00          NaN\n\n[8706 rows x 4 columns], 26:        latitude   longitude      price weekly_pr...    $100.00          NaN\n\n[8706 rows x 4 columns], 28:     latitude   longitude    price weekly_price\n0...aN\n4  37.760051 -122.421352  $200.00          NaN, 30:     latitude   longitude    price weekly_price\n0...aN\n4  37.760051 -122.421352  $200.00          NaN, ...}, 'RFR': RandomForestRegressor(bootstrap=True, criterion=...lse, random_state=3, verbose=0, warm_start=False), ...}\n   2863             finally:\n   2864                 # Reset our crash handler in place\n   2865                 sys.excepthook = old_excepthook\n   2866         except SystemExit as e:\n\n...........................................................................\n/Users/Simran/GitHub/Capital-One-Project/<ipython-input-561-496ea7e886e7> in <module>()\n      1 from sklearn.grid_search import GridSearchCV\n      2 param_test = {'max_depth':list(range(5,16,2)), 'min_samples_split':list(range(200,1001,200))};\n      3 grid_search = GridSearchCV(estimator = GradientBoostingClassifier(learning_rate=0.1, n_estimators=60, max_features='sqrt', subsample=0.8, random_state=10), \n      4 param_grid = param_test, scoring='roc_auc',n_jobs=4,iid=False, cv=5);\n----> 5 grid_search.fit(x_train,y_train);\n\n...........................................................................\n/Users/Simran/anaconda3/lib/python3.6/site-packages/sklearn/grid_search.py in fit(self=GridSearchCV(cv=5, error_score='raise',\n       e..._jobs', refit=True, scoring='roc_auc', verbose=0), X=       latitude   longitude\n3220  37.764646 -122...6  37.744407 -122.428259\n\n[6964 rows x 2 columns], y=      weekly_price\n3220   1273.709934\n6772   151...00000\n7336   1206.317874\n\n[6964 rows x 1 columns])\n    833         y : array-like, shape = [n_samples] or [n_samples, n_output], optional\n    834             Target relative to X for classification or regression;\n    835             None for unsupervised learning.\n    836 \n    837         \"\"\"\n--> 838         return self._fit(X, y, ParameterGrid(self.param_grid))\n        self._fit = <bound method BaseSearchCV._fit of GridSearchCV(...jobs', refit=True, scoring='roc_auc', verbose=0)>\n        X =        latitude   longitude\n3220  37.764646 -122...6  37.744407 -122.428259\n\n[6964 rows x 2 columns]\n        y =       weekly_price\n3220   1273.709934\n6772   151...00000\n7336   1206.317874\n\n[6964 rows x 1 columns]\n        self.param_grid = {'max_depth': [5, 7, 9, 11, 13, 15], 'min_samples_split': [200, 400, 600, 800, 1000]}\n    839 \n    840 \n    841 class RandomizedSearchCV(BaseSearchCV):\n    842     \"\"\"Randomized search on hyper parameters.\n\n...........................................................................\n/Users/Simran/anaconda3/lib/python3.6/site-packages/sklearn/grid_search.py in _fit(self=GridSearchCV(cv=5, error_score='raise',\n       e..._jobs', refit=True, scoring='roc_auc', verbose=0), X=       latitude   longitude\n3220  37.764646 -122...6  37.744407 -122.428259\n\n[6964 rows x 2 columns], y=      weekly_price\n3220   1273.709934\n6772   151...00000\n7336   1206.317874\n\n[6964 rows x 1 columns], parameter_iterable=<sklearn.grid_search.ParameterGrid object>)\n    569         )(\n    570             delayed(_fit_and_score)(clone(base_estimator), X, y, self.scorer_,\n    571                                     train, test, self.verbose, parameters,\n    572                                     self.fit_params, return_parameters=True,\n    573                                     error_score=self.error_score)\n--> 574                 for parameters in parameter_iterable\n        parameters = undefined\n        parameter_iterable = <sklearn.grid_search.ParameterGrid object>\n    575                 for train, test in cv)\n    576 \n    577         # Out is a list of triplet: score, estimator, n_test_samples\n    578         n_fits = len(out)\n\n...........................................................................\n/Users/Simran/anaconda3/lib/python3.6/site-packages/sklearn/externals/joblib/parallel.py in __call__(self=Parallel(n_jobs=4), iterable=<generator object BaseSearchCV._fit.<locals>.<genexpr>>)\n    784             if pre_dispatch == \"all\" or n_jobs == 1:\n    785                 # The iterable was consumed all at once by the above for loop.\n    786                 # No need to wait for async callbacks to trigger to\n    787                 # consumption.\n    788                 self._iterating = False\n--> 789             self.retrieve()\n        self.retrieve = <bound method Parallel.retrieve of Parallel(n_jobs=4)>\n    790             # Make sure that we get a last message telling us we are done\n    791             elapsed_time = time.time() - self._start_time\n    792             self._print('Done %3i out of %3i | elapsed: %s finished',\n    793                         (len(self._output), len(self._output),\n\n---------------------------------------------------------------------------\nSub-process traceback:\n---------------------------------------------------------------------------\nValueError                                         Tue Nov  7 00:07:16 2017\nPID: 50420                 Python 3.6.3: /Users/Simran/anaconda3/bin/python\n...........................................................................\n/Users/Simran/anaconda3/lib/python3.6/site-packages/sklearn/externals/joblib/parallel.py in __call__(self=<sklearn.externals.joblib.parallel.BatchedCalls object>)\n    126     def __init__(self, iterator_slice):\n    127         self.items = list(iterator_slice)\n    128         self._size = len(self.items)\n    129 \n    130     def __call__(self):\n--> 131         return [func(*args, **kwargs) for func, args, kwargs in self.items]\n        self.items = [(<function _fit_and_score>, (GradientBoostingClassifier(criterion='friedman_m...e=0.8, verbose=0,\n              warm_start=False),        latitude   longitude\n3220  37.764646 -122...6  37.744407 -122.428259\n\n[6964 rows x 2 columns],       weekly_price\n3220   1273.709934\n6772   151...00000\n7336   1206.317874\n\n[6964 rows x 1 columns], make_scorer(roc_auc_score, needs_threshold=True), array([1393, 1394, 1395, ..., 6961, 6962, 6963]), array([   0,    1,    2, ..., 1390, 1391, 1392]), 0, {'max_depth': 5, 'min_samples_split': 200}, {}), {'error_score': 'raise', 'return_parameters': True})]\n    132 \n    133     def __len__(self):\n    134         return self._size\n    135 \n\n...........................................................................\n/Users/Simran/anaconda3/lib/python3.6/site-packages/sklearn/externals/joblib/parallel.py in <listcomp>(.0=<list_iterator object>)\n    126     def __init__(self, iterator_slice):\n    127         self.items = list(iterator_slice)\n    128         self._size = len(self.items)\n    129 \n    130     def __call__(self):\n--> 131         return [func(*args, **kwargs) for func, args, kwargs in self.items]\n        func = <function _fit_and_score>\n        args = (GradientBoostingClassifier(criterion='friedman_m...e=0.8, verbose=0,\n              warm_start=False),        latitude   longitude\n3220  37.764646 -122...6  37.744407 -122.428259\n\n[6964 rows x 2 columns],       weekly_price\n3220   1273.709934\n6772   151...00000\n7336   1206.317874\n\n[6964 rows x 1 columns], make_scorer(roc_auc_score, needs_threshold=True), array([1393, 1394, 1395, ..., 6961, 6962, 6963]), array([   0,    1,    2, ..., 1390, 1391, 1392]), 0, {'max_depth': 5, 'min_samples_split': 200}, {})\n        kwargs = {'error_score': 'raise', 'return_parameters': True}\n    132 \n    133     def __len__(self):\n    134         return self._size\n    135 \n\n...........................................................................\n/Users/Simran/anaconda3/lib/python3.6/site-packages/sklearn/cross_validation.py in _fit_and_score(estimator=GradientBoostingClassifier(criterion='friedman_m...e=0.8, verbose=0,\n              warm_start=False), X=       latitude   longitude\n3220  37.764646 -122...6  37.744407 -122.428259\n\n[6964 rows x 2 columns], y=      weekly_price\n3220   1273.709934\n6772   151...00000\n7336   1206.317874\n\n[6964 rows x 1 columns], scorer=make_scorer(roc_auc_score, needs_threshold=True), train=array([1393, 1394, 1395, ..., 6961, 6962, 6963]), test=array([   0,    1,    2, ..., 1390, 1391, 1392]), verbose=0, parameters={'max_depth': 5, 'min_samples_split': 200}, fit_params={}, return_train_score=False, return_parameters=True, error_score='raise')\n   1670 \n   1671     try:\n   1672         if y_train is None:\n   1673             estimator.fit(X_train, **fit_params)\n   1674         else:\n-> 1675             estimator.fit(X_train, y_train, **fit_params)\n        estimator.fit = <bound method BaseGradientBoosting.fit of Gradie...=0.8, verbose=0,\n              warm_start=False)>\n        X_train =        latitude   longitude\n7932  37.728916 -122...6  37.744407 -122.428259\n\n[5571 rows x 2 columns]\n        y_train =       weekly_price\n7932    438.048390\n2183    57...00000\n7336   1206.317874\n\n[5571 rows x 1 columns]\n        fit_params = {}\n   1676 \n   1677     except Exception as e:\n   1678         if error_score == 'raise':\n   1679             raise\n\n...........................................................................\n/Users/Simran/anaconda3/lib/python3.6/site-packages/sklearn/ensemble/gradient_boosting.py in fit(self=GradientBoostingClassifier(criterion='friedman_m...e=0.8, verbose=0,\n              warm_start=False), X=array([[  37.72891617, -122.40377045],\n       [ ...  [  37.74440765, -122.4282608 ]], dtype=float32), y=array([  438.04839012,   572.83251015,  1785.889...70472021,\n        3050.        ,  1206.31787432]), sample_weight=array([ 1.,  1.,  1., ...,  1.,  1.,  1.], dtype=float32), monitor=None)\n    983         else:\n    984             sample_weight = column_or_1d(sample_weight, warn=True)\n    985 \n    986         check_consistent_length(X, y, sample_weight)\n    987 \n--> 988         y = self._validate_y(y)\n        y = array([  438.04839012,   572.83251015,  1785.889...70472021,\n        3050.        ,  1206.31787432])\n        self._validate_y = <bound method GradientBoostingClassifier._valida...=0.8, verbose=0,\n              warm_start=False)>\n    989 \n    990         random_state = check_random_state(self.random_state)\n    991         self._check_params()\n    992 \n\n...........................................................................\n/Users/Simran/anaconda3/lib/python3.6/site-packages/sklearn/ensemble/gradient_boosting.py in _validate_y(self=GradientBoostingClassifier(criterion='friedman_m...e=0.8, verbose=0,\n              warm_start=False), y=array([  438.04839012,   572.83251015,  1785.889...70472021,\n        3050.        ,  1206.31787432]))\n   1458             min_impurity_split=min_impurity_split,\n   1459             warm_start=warm_start,\n   1460             presort=presort)\n   1461 \n   1462     def _validate_y(self, y):\n-> 1463         check_classification_targets(y)\n        y = array([  438.04839012,   572.83251015,  1785.889...70472021,\n        3050.        ,  1206.31787432])\n   1464         self.classes_, y = np.unique(y, return_inverse=True)\n   1465         self.n_classes_ = len(self.classes_)\n   1466         return y\n   1467 \n\n...........................................................................\n/Users/Simran/anaconda3/lib/python3.6/site-packages/sklearn/utils/multiclass.py in check_classification_targets(y=array([  438.04839012,   572.83251015,  1785.889...70472021,\n        3050.        ,  1206.31787432]))\n    167     y : array-like\n    168     \"\"\"\n    169     y_type = type_of_target(y)\n    170     if y_type not in ['binary', 'multiclass', 'multiclass-multioutput',\n    171                       'multilabel-indicator', 'multilabel-sequences']:\n--> 172         raise ValueError(\"Unknown label type: %r\" % y_type)\n        y_type = 'continuous'\n    173 \n    174 \n    175 def type_of_target(y):\n    176     \"\"\"Determine the type of data indicated by the target.\n\nValueError: Unknown label type: 'continuous'\n___________________________________________________________________________"
     ]
    }
   ],
   "source": [
    "from sklearn.grid_search import GridSearchCV\n",
    "param_test = {'max_depth':list(range(5,16,2)), 'min_samples_split':list(range(200,1001,200))};\n",
    "grid_search = GridSearchCV(estimator = GradientBoostingClassifier(learning_rate=0.1, n_estimators=60, max_features='sqrt', subsample=0.8, random_state=10), \n",
    "param_grid = param_test, scoring='roc_auc',n_jobs=4,iid=False, cv=5);\n",
    "grid_search.fit(x_train,y_train);"
   ]
  },
  {
   "cell_type": "markdown",
   "metadata": {},
   "source": [
    "# Random Forest"
   ]
  },
  {
   "cell_type": "code",
   "execution_count": 511,
   "metadata": {},
   "outputs": [
    {
     "name": "stdout",
     "output_type": "stream",
     "text": [
      "0.00553195517467\n"
     ]
    },
    {
     "name": "stderr",
     "output_type": "stream",
     "text": [
      "/Users/Simran/anaconda3/lib/python3.6/site-packages/ipykernel/__main__.py:2: DataConversionWarning: A column-vector y was passed when a 1d array was expected. Please change the shape of y to (n_samples,), for example using ravel().\n",
      "  from ipykernel import kernelapp as app\n"
     ]
    },
    {
     "data": {
      "text/html": [
       "<div>\n",
       "<table border=\"1\" class=\"dataframe\">\n",
       "  <thead>\n",
       "    <tr style=\"text-align: right;\">\n",
       "      <th></th>\n",
       "      <th>0</th>\n",
       "    </tr>\n",
       "  </thead>\n",
       "  <tbody>\n",
       "    <tr>\n",
       "      <th>count</th>\n",
       "      <td>1742.000000</td>\n",
       "    </tr>\n",
       "    <tr>\n",
       "      <th>mean</th>\n",
       "      <td>1617.614859</td>\n",
       "    </tr>\n",
       "    <tr>\n",
       "      <th>std</th>\n",
       "      <td>291.902435</td>\n",
       "    </tr>\n",
       "    <tr>\n",
       "      <th>min</th>\n",
       "      <td>930.494096</td>\n",
       "    </tr>\n",
       "    <tr>\n",
       "      <th>25%</th>\n",
       "      <td>1529.579412</td>\n",
       "    </tr>\n",
       "    <tr>\n",
       "      <th>50%</th>\n",
       "      <td>1561.707817</td>\n",
       "    </tr>\n",
       "    <tr>\n",
       "      <th>75%</th>\n",
       "      <td>1796.604387</td>\n",
       "    </tr>\n",
       "    <tr>\n",
       "      <th>max</th>\n",
       "      <td>4335.668171</td>\n",
       "    </tr>\n",
       "  </tbody>\n",
       "</table>\n",
       "</div>"
      ],
      "text/plain": [
       "                 0\n",
       "count  1742.000000\n",
       "mean   1617.614859\n",
       "std     291.902435\n",
       "min     930.494096\n",
       "25%    1529.579412\n",
       "50%    1561.707817\n",
       "75%    1796.604387\n",
       "max    4335.668171"
      ]
     },
     "execution_count": 511,
     "metadata": {},
     "output_type": "execute_result"
    }
   ],
   "source": [
    "RFR = RandomForestRegressor(max_depth=3, random_state=3)\n",
    "RFR.fit(x_train,y_train)\n",
    "print(RFR.score(x_test,y_test))\n",
    "pd.DataFrame(RFR.predict(x_test)).describe()"
   ]
  },
  {
   "cell_type": "markdown",
   "metadata": {
    "collapsed": true
   },
   "source": [
    "# Calculating the Best Price"
   ]
  },
  {
   "cell_type": "code",
   "execution_count": null,
   "metadata": {},
   "outputs": [],
   "source": []
  }
 ],
 "metadata": {
  "kernelspec": {
   "display_name": "Python3 (capital-one)",
   "language": "python",
   "name": "testenv"
  },
  "language_info": {
   "codemirror_mode": {
    "name": "ipython",
    "version": 3
   },
   "file_extension": ".py",
   "mimetype": "text/x-python",
   "name": "python",
   "nbconvert_exporter": "python",
   "pygments_lexer": "ipython3",
   "version": "3.6.3"
  }
 },
 "nbformat": 4,
 "nbformat_minor": 2
}
